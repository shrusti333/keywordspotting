{
 "cells": [
  {
   "cell_type": "code",
   "execution_count": 2,
   "id": "97c4086e",
   "metadata": {},
   "outputs": [],
   "source": [
    "import os\n",
    "import numpy as np\n",
    "import librosa\n",
    "import librosa.display\n",
    "import matplotlib.pyplot as plt\n",
    "from scipy.signal import butter, lfilter\n",
    "from sklearn.model_selection import train_test_split\n",
    "from tensorflow.keras.preprocessing.sequence import pad_sequences\n",
    "\n"
   ]
  },
  {
   "cell_type": "code",
   "execution_count": 3,
   "id": "13a054f1",
   "metadata": {},
   "outputs": [
    {
     "name": "stdout",
     "output_type": "stream",
     "text": [
      "Scikit-learn Version: 1.4.2\n"
     ]
    }
   ],
   "source": [
    "import sklearn\n",
    "print(\"Scikit-learn Version:\", sklearn.__version__)\n",
    "\n"
   ]
  },
  {
   "cell_type": "code",
   "execution_count": 4,
   "id": "3f8c30e6",
   "metadata": {},
   "outputs": [
    {
     "name": "stdout",
     "output_type": "stream",
     "text": [
      "process_speech_commands_data.py already exists.\n"
     ]
    }
   ],
   "source": [
    "import os\n",
    "import urllib.request\n",
    "\n",
    "# URL to download the script from\n",
    "branch = 'main'  # or whichever branch you want to use\n",
    "url = f'https://raw.githubusercontent.com/NVIDIA/NeMo/{branch}/scripts/dataset_processing/process_speech_commands_data.py'\n",
    "file_path = 'process_speech_commands_data.py'\n",
    "\n",
    "# Check if the file already exists\n",
    "if not os.path.exists(file_path):\n",
    "    print(f\"{file_path} not found. Downloading from {url}...\")\n",
    "    \n",
    "    # Use urllib to download the file\n",
    "    urllib.request.urlretrieve(url, file_path)\n",
    "    \n",
    "    print(f\"{file_path} downloaded successfully!\")\n",
    "else:\n",
    "    print(f\"{file_path} already exists.\")"
   ]
  },
  {
   "cell_type": "code",
   "execution_count": null,
   "id": "c7dda6ff",
   "metadata": {},
   "outputs": [],
   "source": [
    "\n"
   ]
  },
  {
   "cell_type": "code",
   "execution_count": 5,
   "id": "7533668d",
   "metadata": {},
   "outputs": [],
   "source": [
    "import os\n",
    "import numpy as np\n",
    "import librosa\n",
    "import librosa.display\n",
    "from scipy.signal import butter, lfilter\n",
    "from tensorflow.keras.preprocessing.sequence import pad_sequences\n",
    "\n",
    "# Define dataset paths\n",
    "BASE_DIR = \"C:\\\\Users\\\\naikg\\\\keyword-spotting\\\\data\\\\google_speech_recognition_v2\"\n",
    "FILE_LIST_PATH = os.path.join(BASE_DIR, \"testing_list.txt\")\n",
    "\n",
    "\n",
    "\n",
    "\n",
    "\n",
    "\n",
    "\n",
    "\n"
   ]
  },
  {
   "cell_type": "code",
   "execution_count": 6,
   "id": "66c67c4e",
   "metadata": {},
   "outputs": [],
   "source": [
    "# Butterworth low-pass filter to reduce high-frequency noise\n",
    "def butter_lowpass_filter(data, cutoff=4000, sr=16000, order=5):\n",
    "    nyquist = 0.5 * sr\n",
    "    normal_cutoff = cutoff / nyquist\n",
    "    b, a = butter(order, normal_cutoff, btype='low', analog=False)\n",
    "    return lfilter(b, a, data)\n"
   ]
  },
  {
   "cell_type": "code",
   "execution_count": 7,
   "id": "32e9038a",
   "metadata": {},
   "outputs": [],
   "source": [
    "# Read file paths and labels\n",
    "def read_file_paths_and_labels(file_list_path, base_directory):\n",
    "    file_paths, labels = [], []\n",
    "    \n",
    "    with open(file_list_path, 'r') as file:\n",
    "        for line in file:\n",
    "            line = line.strip()  # Remove whitespace\n",
    "            if line:\n",
    "                label, filename = line.split('/', 1)\n",
    "                full_path = os.path.join(base_directory, line)\n",
    "                file_paths.append(full_path)\n",
    "                labels.append(label)\n",
    "    \n",
    "    return file_paths, labels\n"
   ]
  },
  {
   "cell_type": "code",
   "execution_count": 8,
   "id": "c1bc542e",
   "metadata": {},
   "outputs": [],
   "source": [
    "\n",
    "# Extract MFCC with noise reduction & pre-emphasis\n",
    "def extract_mfcc(file_path, sr=16000, n_mfcc=40):\n",
    "    try:\n",
    "        # Load audio\n",
    "        y, sr = librosa.load(file_path, sr=sr)\n",
    "        \n",
    "        # Apply noise reduction\n",
    "        y = butter_lowpass_filter(y, cutoff=4000, sr=sr)\n",
    "        \n",
    "        # Apply pre-emphasis filter\n",
    "        y = librosa.effects.preemphasis(y)\n",
    "        \n",
    "        # Extract MFCC\n",
    "        mfcc = librosa.feature.mfcc(y=y, sr=sr, n_mfcc=n_mfcc)\n",
    "        \n",
    "        return mfcc.T  # Shape: (time_steps, features)\n",
    "    \n",
    "    except Exception as e:\n",
    "        print(f\"Error processing {file_path}: {e}\")\n",
    "        return None"
   ]
  },
  {
   "cell_type": "code",
   "execution_count": 9,
   "id": "b3186105",
   "metadata": {},
   "outputs": [],
   "source": [
    "\n",
    "# Load all audio files and extract MFCC features\n",
    "def load_and_process_audio(file_paths):\n",
    "    mfcc_features, labels_list = [], []\n",
    "    \n",
    "    for file_path in file_paths:\n",
    "        mfcc = extract_mfcc(file_path)\n",
    "        if mfcc is not None:\n",
    "            mfcc_features.append(mfcc)\n",
    "    \n",
    "    # Pad sequences to uniform shape\n",
    "    mfcc_features = pad_sequences(mfcc_features, padding=\"post\", dtype=\"float32\")\n",
    "    \n",
    "    return np.array(mfcc_features)\n"
   ]
  },
  {
   "cell_type": "code",
   "execution_count": null,
   "id": "c63bc7d4",
   "metadata": {},
   "outputs": [],
   "source": [
    "\n"
   ]
  },
  {
   "cell_type": "code",
   "execution_count": null,
   "id": "2e917503",
   "metadata": {},
   "outputs": [],
   "source": [
    "\n",
    "\n",
    "\n"
   ]
  },
  {
   "cell_type": "code",
   "execution_count": 10,
   "id": "1e749dc2",
   "metadata": {},
   "outputs": [
    {
     "name": "stdout",
     "output_type": "stream",
     "text": [
      "Processed 11005 audio files with MFCC shape: (32, 40)\n"
     ]
    }
   ],
   "source": [
    "\n",
    "# Read file paths\n",
    "file_paths, labels = read_file_paths_and_labels(FILE_LIST_PATH, BASE_DIR)\n",
    "\n",
    "# Load and extract MFCC features\n",
    "X = load_and_process_audio(file_paths)\n",
    "\n",
    "# Print shape\n",
    "print(f\"Processed {X.shape[0]} audio files with MFCC shape: {X.shape[1:]}\")\n"
   ]
  },
  {
   "cell_type": "code",
   "execution_count": null,
   "id": "e115c11e",
   "metadata": {},
   "outputs": [],
   "source": [
    "\n"
   ]
  },
  {
   "cell_type": "code",
   "execution_count": null,
   "id": "4cf2cdff",
   "metadata": {},
   "outputs": [],
   "source": [
    "\n"
   ]
  },
  {
   "cell_type": "code",
   "execution_count": null,
   "id": "3cdeeea1",
   "metadata": {},
   "outputs": [],
   "source": []
  },
  {
   "cell_type": "code",
   "execution_count": 15,
   "id": "14e06823",
   "metadata": {},
   "outputs": [
    {
     "name": "stdout",
     "output_type": "stream",
     "text": [
      "X_train shape: (8804, 32, 40)\n",
      "y_train shape: (8804, 35)\n",
      "Epoch 1/30\n",
      "\u001b[1m276/276\u001b[0m \u001b[32m━━━━━━━━━━━━━━━━━━━━\u001b[0m\u001b[37m\u001b[0m \u001b[1m30s\u001b[0m 61ms/step - accuracy: 0.0696 - loss: 3.6328 - val_accuracy: 0.2731 - val_loss: 2.6439\n",
      "Epoch 2/30\n",
      "\u001b[1m276/276\u001b[0m \u001b[32m━━━━━━━━━━━━━━━━━━━━\u001b[0m\u001b[37m\u001b[0m \u001b[1m15s\u001b[0m 56ms/step - accuracy: 0.2865 - loss: 2.5151 - val_accuracy: 0.4952 - val_loss: 1.6953\n",
      "Epoch 3/30\n",
      "\u001b[1m276/276\u001b[0m \u001b[32m━━━━━━━━━━━━━━━━━━━━\u001b[0m\u001b[37m\u001b[0m \u001b[1m15s\u001b[0m 55ms/step - accuracy: 0.4384 - loss: 1.9079 - val_accuracy: 0.5988 - val_loss: 1.3675\n",
      "Epoch 4/30\n",
      "\u001b[1m276/276\u001b[0m \u001b[32m━━━━━━━━━━━━━━━━━━━━\u001b[0m\u001b[37m\u001b[0m \u001b[1m15s\u001b[0m 54ms/step - accuracy: 0.5296 - loss: 1.5773 - val_accuracy: 0.6629 - val_loss: 1.1944\n",
      "Epoch 5/30\n",
      "\u001b[1m276/276\u001b[0m \u001b[32m━━━━━━━━━━━━━━━━━━━━\u001b[0m\u001b[37m\u001b[0m \u001b[1m15s\u001b[0m 54ms/step - accuracy: 0.5858 - loss: 1.3557 - val_accuracy: 0.7147 - val_loss: 0.9821\n",
      "Epoch 6/30\n",
      "\u001b[1m276/276\u001b[0m \u001b[32m━━━━━━━━━━━━━━━━━━━━\u001b[0m\u001b[37m\u001b[0m \u001b[1m15s\u001b[0m 53ms/step - accuracy: 0.6343 - loss: 1.2069 - val_accuracy: 0.7238 - val_loss: 0.9271\n",
      "Epoch 7/30\n",
      "\u001b[1m276/276\u001b[0m \u001b[32m━━━━━━━━━━━━━━━━━━━━\u001b[0m\u001b[37m\u001b[0m \u001b[1m15s\u001b[0m 54ms/step - accuracy: 0.6504 - loss: 1.1869 - val_accuracy: 0.6583 - val_loss: 1.1547\n",
      "Epoch 8/30\n",
      "\u001b[1m276/276\u001b[0m \u001b[32m━━━━━━━━━━━━━━━━━━━━\u001b[0m\u001b[37m\u001b[0m \u001b[1m15s\u001b[0m 53ms/step - accuracy: 0.6916 - loss: 1.0348 - val_accuracy: 0.7424 - val_loss: 0.8233\n",
      "Epoch 9/30\n",
      "\u001b[1m276/276\u001b[0m \u001b[32m━━━━━━━━━━━━━━━━━━━━\u001b[0m\u001b[37m\u001b[0m \u001b[1m15s\u001b[0m 55ms/step - accuracy: 0.7109 - loss: 0.9499 - val_accuracy: 0.7737 - val_loss: 0.7380\n",
      "Epoch 10/30\n",
      "\u001b[1m276/276\u001b[0m \u001b[32m━━━━━━━━━━━━━━━━━━━━\u001b[0m\u001b[37m\u001b[0m \u001b[1m16s\u001b[0m 56ms/step - accuracy: 0.7053 - loss: 0.9524 - val_accuracy: 0.7878 - val_loss: 0.7260\n",
      "Epoch 11/30\n",
      "\u001b[1m276/276\u001b[0m \u001b[32m━━━━━━━━━━━━━━━━━━━━\u001b[0m\u001b[37m\u001b[0m \u001b[1m16s\u001b[0m 58ms/step - accuracy: 0.7399 - loss: 0.8623 - val_accuracy: 0.7737 - val_loss: 0.7860\n",
      "Epoch 12/30\n",
      "\u001b[1m276/276\u001b[0m \u001b[32m━━━━━━━━━━━━━━━━━━━━\u001b[0m\u001b[37m\u001b[0m \u001b[1m19s\u001b[0m 67ms/step - accuracy: 0.7494 - loss: 0.8355 - val_accuracy: 0.7833 - val_loss: 0.7225\n",
      "Epoch 13/30\n",
      "\u001b[1m276/276\u001b[0m \u001b[32m━━━━━━━━━━━━━━━━━━━━\u001b[0m\u001b[37m\u001b[0m \u001b[1m17s\u001b[0m 60ms/step - accuracy: 0.7555 - loss: 0.8175 - val_accuracy: 0.7892 - val_loss: 0.6878\n",
      "Epoch 14/30\n",
      "\u001b[1m276/276\u001b[0m \u001b[32m━━━━━━━━━━━━━━━━━━━━\u001b[0m\u001b[37m\u001b[0m \u001b[1m18s\u001b[0m 66ms/step - accuracy: 0.7564 - loss: 0.8127 - val_accuracy: 0.8078 - val_loss: 0.6427\n",
      "Epoch 15/30\n",
      "\u001b[1m276/276\u001b[0m \u001b[32m━━━━━━━━━━━━━━━━━━━━\u001b[0m\u001b[37m\u001b[0m \u001b[1m16s\u001b[0m 59ms/step - accuracy: 0.7777 - loss: 0.7469 - val_accuracy: 0.8255 - val_loss: 0.5882\n",
      "Epoch 16/30\n",
      "\u001b[1m276/276\u001b[0m \u001b[32m━━━━━━━━━━━━━━━━━━━━\u001b[0m\u001b[37m\u001b[0m \u001b[1m16s\u001b[0m 58ms/step - accuracy: 0.7885 - loss: 0.6827 - val_accuracy: 0.8224 - val_loss: 0.6135\n",
      "Epoch 17/30\n",
      "\u001b[1m276/276\u001b[0m \u001b[32m━━━━━━━━━━━━━━━━━━━━\u001b[0m\u001b[37m\u001b[0m \u001b[1m17s\u001b[0m 61ms/step - accuracy: 0.7975 - loss: 0.6645 - val_accuracy: 0.8083 - val_loss: 0.6392\n",
      "Epoch 18/30\n",
      "\u001b[1m276/276\u001b[0m \u001b[32m━━━━━━━━━━━━━━━━━━━━\u001b[0m\u001b[37m\u001b[0m \u001b[1m18s\u001b[0m 64ms/step - accuracy: 0.8045 - loss: 0.6312 - val_accuracy: 0.8278 - val_loss: 0.5758\n",
      "Epoch 19/30\n",
      "\u001b[1m276/276\u001b[0m \u001b[32m━━━━━━━━━━━━━━━━━━━━\u001b[0m\u001b[37m\u001b[0m \u001b[1m16s\u001b[0m 57ms/step - accuracy: 0.8196 - loss: 0.5901 - val_accuracy: 0.8233 - val_loss: 0.6116\n",
      "Epoch 20/30\n",
      "\u001b[1m276/276\u001b[0m \u001b[32m━━━━━━━━━━━━━━━━━━━━\u001b[0m\u001b[37m\u001b[0m \u001b[1m16s\u001b[0m 58ms/step - accuracy: 0.8127 - loss: 0.6171 - val_accuracy: 0.8337 - val_loss: 0.5772\n",
      "Epoch 21/30\n",
      "\u001b[1m276/276\u001b[0m \u001b[32m━━━━━━━━━━━━━━━━━━━━\u001b[0m\u001b[37m\u001b[0m \u001b[1m16s\u001b[0m 58ms/step - accuracy: 0.8169 - loss: 0.5937 - val_accuracy: 0.8319 - val_loss: 0.5649\n",
      "Epoch 22/30\n",
      "\u001b[1m276/276\u001b[0m \u001b[32m━━━━━━━━━━━━━━━━━━━━\u001b[0m\u001b[37m\u001b[0m \u001b[1m15s\u001b[0m 56ms/step - accuracy: 0.8280 - loss: 0.5725 - val_accuracy: 0.8264 - val_loss: 0.5690\n",
      "Epoch 23/30\n",
      "\u001b[1m276/276\u001b[0m \u001b[32m━━━━━━━━━━━━━━━━━━━━\u001b[0m\u001b[37m\u001b[0m \u001b[1m22s\u001b[0m 61ms/step - accuracy: 0.8313 - loss: 0.5736 - val_accuracy: 0.8519 - val_loss: 0.5347\n",
      "Epoch 24/30\n",
      "\u001b[1m276/276\u001b[0m \u001b[32m━━━━━━━━━━━━━━━━━━━━\u001b[0m\u001b[37m\u001b[0m \u001b[1m16s\u001b[0m 57ms/step - accuracy: 0.8261 - loss: 0.5782 - val_accuracy: 0.8396 - val_loss: 0.5392\n",
      "Epoch 25/30\n",
      "\u001b[1m276/276\u001b[0m \u001b[32m━━━━━━━━━━━━━━━━━━━━\u001b[0m\u001b[37m\u001b[0m \u001b[1m16s\u001b[0m 57ms/step - accuracy: 0.8364 - loss: 0.5374 - val_accuracy: 0.8392 - val_loss: 0.5631\n",
      "Epoch 26/30\n",
      "\u001b[1m276/276\u001b[0m \u001b[32m━━━━━━━━━━━━━━━━━━━━\u001b[0m\u001b[37m\u001b[0m \u001b[1m15s\u001b[0m 55ms/step - accuracy: 0.8510 - loss: 0.4950 - val_accuracy: 0.8437 - val_loss: 0.5416\n",
      "Epoch 27/30\n",
      "\u001b[1m276/276\u001b[0m \u001b[32m━━━━━━━━━━━━━━━━━━━━\u001b[0m\u001b[37m\u001b[0m \u001b[1m15s\u001b[0m 56ms/step - accuracy: 0.8498 - loss: 0.4869 - val_accuracy: 0.8546 - val_loss: 0.5357\n",
      "Epoch 28/30\n",
      "\u001b[1m276/276\u001b[0m \u001b[32m━━━━━━━━━━━━━━━━━━━━\u001b[0m\u001b[37m\u001b[0m \u001b[1m15s\u001b[0m 54ms/step - accuracy: 0.8621 - loss: 0.4643 - val_accuracy: 0.8555 - val_loss: 0.5125\n",
      "Epoch 29/30\n",
      "\u001b[1m276/276\u001b[0m \u001b[32m━━━━━━━━━━━━━━━━━━━━\u001b[0m\u001b[37m\u001b[0m \u001b[1m15s\u001b[0m 54ms/step - accuracy: 0.8606 - loss: 0.4626 - val_accuracy: 0.8487 - val_loss: 0.5369\n",
      "Epoch 30/30\n",
      "\u001b[1m276/276\u001b[0m \u001b[32m━━━━━━━━━━━━━━━━━━━━\u001b[0m\u001b[37m\u001b[0m \u001b[1m16s\u001b[0m 58ms/step - accuracy: 0.8632 - loss: 0.4454 - val_accuracy: 0.8501 - val_loss: 0.5272\n"
     ]
    },
    {
     "data": {
      "text/html": [
       "<pre style=\"white-space:pre;overflow-x:auto;line-height:normal;font-family:Menlo,'DejaVu Sans Mono',consolas,'Courier New',monospace\"><span style=\"font-weight: bold\">Model: \"sequential_3\"</span>\n",
       "</pre>\n"
      ],
      "text/plain": [
       "\u001b[1mModel: \"sequential_3\"\u001b[0m\n"
      ]
     },
     "metadata": {},
     "output_type": "display_data"
    },
    {
     "data": {
      "text/html": [
       "<pre style=\"white-space:pre;overflow-x:auto;line-height:normal;font-family:Menlo,'DejaVu Sans Mono',consolas,'Courier New',monospace\">┏━━━━━━━━━━━━━━━━━━━━━━━━━━━━━━━━━┳━━━━━━━━━━━━━━━━━━━━━━━━┳━━━━━━━━━━━━━━━┓\n",
       "┃<span style=\"font-weight: bold\"> Layer (type)                    </span>┃<span style=\"font-weight: bold\"> Output Shape           </span>┃<span style=\"font-weight: bold\">       Param # </span>┃\n",
       "┡━━━━━━━━━━━━━━━━━━━━━━━━━━━━━━━━━╇━━━━━━━━━━━━━━━━━━━━━━━━╇━━━━━━━━━━━━━━━┩\n",
       "│ bidirectional_6 (<span style=\"color: #0087ff; text-decoration-color: #0087ff\">Bidirectional</span>) │ (<span style=\"color: #00d7ff; text-decoration-color: #00d7ff\">None</span>, <span style=\"color: #00af00; text-decoration-color: #00af00\">32</span>, <span style=\"color: #00af00; text-decoration-color: #00af00\">256</span>)        │       <span style=\"color: #00af00; text-decoration-color: #00af00\">173,056</span> │\n",
       "├─────────────────────────────────┼────────────────────────┼───────────────┤\n",
       "│ batch_normalization_6           │ (<span style=\"color: #00d7ff; text-decoration-color: #00d7ff\">None</span>, <span style=\"color: #00af00; text-decoration-color: #00af00\">32</span>, <span style=\"color: #00af00; text-decoration-color: #00af00\">256</span>)        │         <span style=\"color: #00af00; text-decoration-color: #00af00\">1,024</span> │\n",
       "│ (<span style=\"color: #0087ff; text-decoration-color: #0087ff\">BatchNormalization</span>)            │                        │               │\n",
       "├─────────────────────────────────┼────────────────────────┼───────────────┤\n",
       "│ dropout_9 (<span style=\"color: #0087ff; text-decoration-color: #0087ff\">Dropout</span>)             │ (<span style=\"color: #00d7ff; text-decoration-color: #00d7ff\">None</span>, <span style=\"color: #00af00; text-decoration-color: #00af00\">32</span>, <span style=\"color: #00af00; text-decoration-color: #00af00\">256</span>)        │             <span style=\"color: #00af00; text-decoration-color: #00af00\">0</span> │\n",
       "├─────────────────────────────────┼────────────────────────┼───────────────┤\n",
       "│ bidirectional_7 (<span style=\"color: #0087ff; text-decoration-color: #0087ff\">Bidirectional</span>) │ (<span style=\"color: #00d7ff; text-decoration-color: #00d7ff\">None</span>, <span style=\"color: #00af00; text-decoration-color: #00af00\">128</span>)            │       <span style=\"color: #00af00; text-decoration-color: #00af00\">164,352</span> │\n",
       "├─────────────────────────────────┼────────────────────────┼───────────────┤\n",
       "│ batch_normalization_7           │ (<span style=\"color: #00d7ff; text-decoration-color: #00d7ff\">None</span>, <span style=\"color: #00af00; text-decoration-color: #00af00\">128</span>)            │           <span style=\"color: #00af00; text-decoration-color: #00af00\">512</span> │\n",
       "│ (<span style=\"color: #0087ff; text-decoration-color: #0087ff\">BatchNormalization</span>)            │                        │               │\n",
       "├─────────────────────────────────┼────────────────────────┼───────────────┤\n",
       "│ dropout_10 (<span style=\"color: #0087ff; text-decoration-color: #0087ff\">Dropout</span>)            │ (<span style=\"color: #00d7ff; text-decoration-color: #00d7ff\">None</span>, <span style=\"color: #00af00; text-decoration-color: #00af00\">128</span>)            │             <span style=\"color: #00af00; text-decoration-color: #00af00\">0</span> │\n",
       "├─────────────────────────────────┼────────────────────────┼───────────────┤\n",
       "│ dense_6 (<span style=\"color: #0087ff; text-decoration-color: #0087ff\">Dense</span>)                 │ (<span style=\"color: #00d7ff; text-decoration-color: #00d7ff\">None</span>, <span style=\"color: #00af00; text-decoration-color: #00af00\">32</span>)             │         <span style=\"color: #00af00; text-decoration-color: #00af00\">4,128</span> │\n",
       "├─────────────────────────────────┼────────────────────────┼───────────────┤\n",
       "│ dropout_11 (<span style=\"color: #0087ff; text-decoration-color: #0087ff\">Dropout</span>)            │ (<span style=\"color: #00d7ff; text-decoration-color: #00d7ff\">None</span>, <span style=\"color: #00af00; text-decoration-color: #00af00\">32</span>)             │             <span style=\"color: #00af00; text-decoration-color: #00af00\">0</span> │\n",
       "├─────────────────────────────────┼────────────────────────┼───────────────┤\n",
       "│ dense_7 (<span style=\"color: #0087ff; text-decoration-color: #0087ff\">Dense</span>)                 │ (<span style=\"color: #00d7ff; text-decoration-color: #00d7ff\">None</span>, <span style=\"color: #00af00; text-decoration-color: #00af00\">35</span>)             │         <span style=\"color: #00af00; text-decoration-color: #00af00\">1,155</span> │\n",
       "└─────────────────────────────────┴────────────────────────┴───────────────┘\n",
       "</pre>\n"
      ],
      "text/plain": [
       "┏━━━━━━━━━━━━━━━━━━━━━━━━━━━━━━━━━┳━━━━━━━━━━━━━━━━━━━━━━━━┳━━━━━━━━━━━━━━━┓\n",
       "┃\u001b[1m \u001b[0m\u001b[1mLayer (type)                   \u001b[0m\u001b[1m \u001b[0m┃\u001b[1m \u001b[0m\u001b[1mOutput Shape          \u001b[0m\u001b[1m \u001b[0m┃\u001b[1m \u001b[0m\u001b[1m      Param #\u001b[0m\u001b[1m \u001b[0m┃\n",
       "┡━━━━━━━━━━━━━━━━━━━━━━━━━━━━━━━━━╇━━━━━━━━━━━━━━━━━━━━━━━━╇━━━━━━━━━━━━━━━┩\n",
       "│ bidirectional_6 (\u001b[38;5;33mBidirectional\u001b[0m) │ (\u001b[38;5;45mNone\u001b[0m, \u001b[38;5;34m32\u001b[0m, \u001b[38;5;34m256\u001b[0m)        │       \u001b[38;5;34m173,056\u001b[0m │\n",
       "├─────────────────────────────────┼────────────────────────┼───────────────┤\n",
       "│ batch_normalization_6           │ (\u001b[38;5;45mNone\u001b[0m, \u001b[38;5;34m32\u001b[0m, \u001b[38;5;34m256\u001b[0m)        │         \u001b[38;5;34m1,024\u001b[0m │\n",
       "│ (\u001b[38;5;33mBatchNormalization\u001b[0m)            │                        │               │\n",
       "├─────────────────────────────────┼────────────────────────┼───────────────┤\n",
       "│ dropout_9 (\u001b[38;5;33mDropout\u001b[0m)             │ (\u001b[38;5;45mNone\u001b[0m, \u001b[38;5;34m32\u001b[0m, \u001b[38;5;34m256\u001b[0m)        │             \u001b[38;5;34m0\u001b[0m │\n",
       "├─────────────────────────────────┼────────────────────────┼───────────────┤\n",
       "│ bidirectional_7 (\u001b[38;5;33mBidirectional\u001b[0m) │ (\u001b[38;5;45mNone\u001b[0m, \u001b[38;5;34m128\u001b[0m)            │       \u001b[38;5;34m164,352\u001b[0m │\n",
       "├─────────────────────────────────┼────────────────────────┼───────────────┤\n",
       "│ batch_normalization_7           │ (\u001b[38;5;45mNone\u001b[0m, \u001b[38;5;34m128\u001b[0m)            │           \u001b[38;5;34m512\u001b[0m │\n",
       "│ (\u001b[38;5;33mBatchNormalization\u001b[0m)            │                        │               │\n",
       "├─────────────────────────────────┼────────────────────────┼───────────────┤\n",
       "│ dropout_10 (\u001b[38;5;33mDropout\u001b[0m)            │ (\u001b[38;5;45mNone\u001b[0m, \u001b[38;5;34m128\u001b[0m)            │             \u001b[38;5;34m0\u001b[0m │\n",
       "├─────────────────────────────────┼────────────────────────┼───────────────┤\n",
       "│ dense_6 (\u001b[38;5;33mDense\u001b[0m)                 │ (\u001b[38;5;45mNone\u001b[0m, \u001b[38;5;34m32\u001b[0m)             │         \u001b[38;5;34m4,128\u001b[0m │\n",
       "├─────────────────────────────────┼────────────────────────┼───────────────┤\n",
       "│ dropout_11 (\u001b[38;5;33mDropout\u001b[0m)            │ (\u001b[38;5;45mNone\u001b[0m, \u001b[38;5;34m32\u001b[0m)             │             \u001b[38;5;34m0\u001b[0m │\n",
       "├─────────────────────────────────┼────────────────────────┼───────────────┤\n",
       "│ dense_7 (\u001b[38;5;33mDense\u001b[0m)                 │ (\u001b[38;5;45mNone\u001b[0m, \u001b[38;5;34m35\u001b[0m)             │         \u001b[38;5;34m1,155\u001b[0m │\n",
       "└─────────────────────────────────┴────────────────────────┴───────────────┘\n"
      ]
     },
     "metadata": {},
     "output_type": "display_data"
    },
    {
     "data": {
      "text/html": [
       "<pre style=\"white-space:pre;overflow-x:auto;line-height:normal;font-family:Menlo,'DejaVu Sans Mono',consolas,'Courier New',monospace\"><span style=\"font-weight: bold\"> Total params: </span><span style=\"color: #00af00; text-decoration-color: #00af00\">1,031,147</span> (3.93 MB)\n",
       "</pre>\n"
      ],
      "text/plain": [
       "\u001b[1m Total params: \u001b[0m\u001b[38;5;34m1,031,147\u001b[0m (3.93 MB)\n"
      ]
     },
     "metadata": {},
     "output_type": "display_data"
    },
    {
     "data": {
      "text/html": [
       "<pre style=\"white-space:pre;overflow-x:auto;line-height:normal;font-family:Menlo,'DejaVu Sans Mono',consolas,'Courier New',monospace\"><span style=\"font-weight: bold\"> Trainable params: </span><span style=\"color: #00af00; text-decoration-color: #00af00\">343,459</span> (1.31 MB)\n",
       "</pre>\n"
      ],
      "text/plain": [
       "\u001b[1m Trainable params: \u001b[0m\u001b[38;5;34m343,459\u001b[0m (1.31 MB)\n"
      ]
     },
     "metadata": {},
     "output_type": "display_data"
    },
    {
     "data": {
      "text/html": [
       "<pre style=\"white-space:pre;overflow-x:auto;line-height:normal;font-family:Menlo,'DejaVu Sans Mono',consolas,'Courier New',monospace\"><span style=\"font-weight: bold\"> Non-trainable params: </span><span style=\"color: #00af00; text-decoration-color: #00af00\">768</span> (3.00 KB)\n",
       "</pre>\n"
      ],
      "text/plain": [
       "\u001b[1m Non-trainable params: \u001b[0m\u001b[38;5;34m768\u001b[0m (3.00 KB)\n"
      ]
     },
     "metadata": {},
     "output_type": "display_data"
    },
    {
     "data": {
      "text/html": [
       "<pre style=\"white-space:pre;overflow-x:auto;line-height:normal;font-family:Menlo,'DejaVu Sans Mono',consolas,'Courier New',monospace\"><span style=\"font-weight: bold\"> Optimizer params: </span><span style=\"color: #00af00; text-decoration-color: #00af00\">686,920</span> (2.62 MB)\n",
       "</pre>\n"
      ],
      "text/plain": [
       "\u001b[1m Optimizer params: \u001b[0m\u001b[38;5;34m686,920\u001b[0m (2.62 MB)\n"
      ]
     },
     "metadata": {},
     "output_type": "display_data"
    },
    {
     "name": "stderr",
     "output_type": "stream",
     "text": [
      "WARNING:absl:You are saving your model as an HDF5 file via `model.save()` or `keras.saving.save_model(model)`. This file format is considered legacy. We recommend using instead the native Keras format, e.g. `model.save('my_model.keras')` or `keras.saving.save_model(model, 'my_model.keras')`. \n"
     ]
    }
   ],
   "source": [
    "import tensorflow as tf\n",
    "from tensorflow.keras.models import Sequential\n",
    "from tensorflow.keras.layers import Input, LSTM, Bidirectional, Dense, Dropout, BatchNormalization\n",
    "from tensorflow.keras.optimizers import Adam\n",
    "from sklearn.model_selection import train_test_split\n",
    "from sklearn.preprocessing import LabelEncoder\n",
    "from tensorflow.keras.utils import to_categorical\n",
    "\n",
    "# Ensure X and labels are properly defined before proceeding\n",
    "assert 'X' in locals() and 'labels' in locals(), \"Make sure X and labels are defined before using them.\"\n",
    "\n",
    "# Encode labels into numerical values\n",
    "label_encoder = LabelEncoder()\n",
    "y = label_encoder.fit_transform(labels)  # Convert text labels to numbers\n",
    "y = to_categorical(y)  # Convert to one-hot encoding\n",
    "\n",
    "# Train-Test Split (80% train, 20% test)\n",
    "X_train, X_test, y_train, y_test = train_test_split(X, y, test_size=0.2, random_state=42)\n",
    "\n",
    "# Ensure X_train has the correct shape\n",
    "print(\"X_train shape:\", X_train.shape)  # Should be (num_samples, time_steps, num_features)\n",
    "print(\"y_train shape:\", y_train.shape)  # Should be (num_samples, num_classes)\n",
    "\n",
    "# Define LSTM/BiLSTM Model\n",
    "model = Sequential([\n",
    "    Input(shape=(X_train.shape[1], X_train.shape[2])),  # Correct way to define input\n",
    "    Bidirectional(LSTM(128, return_sequences=True)),\n",
    "    BatchNormalization(),\n",
    "    Dropout(0.3),\n",
    "\n",
    "    Bidirectional(LSTM(64, return_sequences=False)),\n",
    "    BatchNormalization(),\n",
    "    Dropout(0.3),\n",
    "\n",
    "    Dense(32, activation='relu'),\n",
    "    Dropout(0.2),\n",
    "\n",
    "    Dense(y_train.shape[1], activation='softmax')  # Output layer (multi-class classification)\n",
    "])\n",
    "\n",
    "# Compile model with Adam optimizer\n",
    "optimizer = Adam(learning_rate=0.001)\n",
    "model.compile(loss='categorical_crossentropy', optimizer=optimizer, metrics=['accuracy'])\n",
    "\n",
    "# Train the Model\n",
    "history = model.fit(X_train, y_train, validation_data=(X_test, y_test), epochs=40, batch_size=32)\n",
    "\n",
    "# Model Summary\n",
    "model.summary()\n",
    "\n",
    "# Save the trained model\n",
    "model.save(\"keyword_spotting_model.h5\")\n",
    "\n",
    "# Save the label encoder to retrieve labels during prediction\n",
    "import pickle\n",
    "with open(\"label_encoder.pkl\", \"wb\") as f:\n",
    "    pickle.dump(label_encoder, f)\n"
   ]
  },
  {
   "cell_type": "code",
   "execution_count": null,
   "id": "508043eb",
   "metadata": {},
   "outputs": [],
   "source": []
  },
  {
   "cell_type": "code",
   "execution_count": 16,
   "id": "aff5cc82",
   "metadata": {},
   "outputs": [
    {
     "data": {
      "image/png": "[encoded data removed]",
      "text/plain": [
       "<Figure size 800x500 with 1 Axes>"
      ]
     },
     "metadata": {},
     "output_type": "display_data"
    },
    {
     "name": "stdout",
     "output_type": "stream",
     "text": [
      "Final Training Accuracy: 86.40%\n",
      "Final Validation Accuracy: 85.01%\n"
     ]
    }
   ],
   "source": [
    "import seaborn as sns\n",
    "\n",
    "# Plot Training & Validation Accuracy\n",
    "plt.figure(figsize=(8, 5))\n",
    "plt.plot(history.history['accuracy'], label='Train Accuracy', color='blue')\n",
    "plt.plot(history.history['val_accuracy'], label='Val Accuracy', color='red')\n",
    "plt.xlabel(\"Epochs\")\n",
    "plt.ylabel(\"Accuracy\")\n",
    "plt.legend()\n",
    "plt.title(\"Model Accuracy Over Epochs (LSTM/BiLSTM Model)\")\n",
    "plt.show()\n",
    "\n",
    "# Print final accuracy\n",
    "train_acc = history.history['accuracy'][-1] * 100\n",
    "val_acc = history.history['val_accuracy'][-1] * 100\n",
    "print(f\"Final Training Accuracy: {train_acc:.2f}%\")\n",
    "print(f\"Final Validation Accuracy: {val_acc:.2f}%\")\n"
   ]
  },
  {
   "cell_type": "code",
   "execution_count": null,
   "id": "485ebc3e",
   "metadata": {},
   "outputs": [],
   "source": []
  },
  {
   "cell_type": "code",
   "execution_count": null,
   "id": "934a0d04",
   "metadata": {},
   "outputs": [],
   "source": [
    "import sounddevice as sd\n",
    "import time\n",
    "from datetime import datetime\n",
    "\n",
    "# Load trained model\n",
    "model = tf.keras.models.load_model(\"keyword_spotting_model.h5\")\n",
    "\n",
    "# Real-time inference function\n",
    "def recognize_keyword(duration=1, sr=16000, threshold=0.8):\n",
    "    print(\"Listening for keywords...\")\n",
    "\n",
    "    while True:\n",
    "        # Record audio\n",
    "        audio = sd.rec(int(duration * sr), samplerate=sr, channels=1, dtype='float32')\n",
    "        sd.wait()\n",
    "\n",
    "        # Convert to 1D array\n",
    "        audio = audio.flatten()\n",
    "\n",
    "        # Extract MFCC features\n",
    "        mfcc = extract_mfcc(audio)\n",
    "\n",
    "        # Pad sequence\n",
    "        mfcc = pad_sequences([mfcc], maxlen=X_train.shape[1], padding=\"post\", dtype=\"float32\")\n",
    "\n",
    "        # Get prediction\n",
    "        prediction = model.predict(mfcc)\n",
    "        if prediction[0][1] > threshold:\n",
    "            print(f\"True - {datetime.now().strftime('%H:%M:%S')}\")\n",
    "\n",
    "# Run real-time detection\n",
    "recognize_keyword()\n"
   ]
  },
  {
   "cell_type": "code",
   "execution_count": null,
   "id": "1c2ec1fc",
   "metadata": {},
   "outputs": [],
   "source": []
  },
  {
   "cell_type": "code",
   "execution_count": null,
   "id": "2b15681f",
   "metadata": {},
   "outputs": [],
   "source": [
    "from sklearn.metrics import accuracy_score\n",
    "\n",
    "# Test files directory\n",
    "TEST_FILES_PATH = \"test_audio_files/\"\n",
    "\n",
    "# Function to test accuracy on multiple audio files\n",
    "def evaluate_model():\n",
    "    total_keywords = 0\n",
    "    correct_detections = 0\n",
    "\n",
    "    for file in os.listdir(TEST_FILES_PATH):\n",
    "        file_path = os.path.join(TEST_FILES_PATH, file)\n",
    "        audio, sr = librosa.load(file_path, sr=16000)\n",
    "        mfcc = extract_mfcc(audio)\n",
    "\n",
    "        # Pad sequence\n",
    "        mfcc = pad_sequences([mfcc], maxlen=X_train.shape[1], padding=\"post\", dtype=\"float32\")\n",
    "\n",
    "        # Predict\n",
    "        prediction = model.predict(mfcc)\n",
    "        detected = prediction[0][1] > 0.8\n",
    "\n",
    "        # Check ground truth (assume each file contains exactly 20 keywords)\n",
    "        if detected:\n",
    "            correct_detections += 1\n",
    "        total_keywords += 20\n",
    "\n",
    "        accuracy = (correct_detections / total_keywords) * 100\n",
    "        print(f\"Accuracy for {file}: {accuracy:.2f}%\")\n",
    "\n",
    "# Run evaluation\n",
    "evaluate_model()\n"
   ]
  },
  {
   "cell_type": "code",
   "execution_count": null,
   "id": "2d5cf109",
   "metadata": {},
   "outputs": [],
   "source": []
  },
  {
   "cell_type": "code",
   "execution_count": null,
   "id": "e76d3387",
   "metadata": {},
   "outputs": [],
   "source": [
    "\n"
   ]
  },
  {
   "cell_type": "code",
   "execution_count": null,
   "id": "d9cf0fe8",
   "metadata": {},
   "outputs": [],
   "source": [
    "\n",
    "\n"
   ]
  },
  {
   "cell_type": "code",
   "execution_count": 57,
   "id": "feee3010",
   "metadata": {},
   "outputs": [
    {
     "name": "stdout",
     "output_type": "stream",
     "text": [
      "✅ Data loaded and split successfully!\n",
      "X_train shape: (8804, 32, 40), y_train shape: (8804, 35)\n",
      "X_test shape: (2201, 32, 40), y_test shape: (2201, 35)\n"
     ]
    }
   ],
   "source": [
    "import time\n",
    "import numpy as np\n",
    "import tensorflow as tf\n",
    "from tensorflow.keras.models import Sequential\n",
    "from tensorflow.keras.layers import LSTM, Bidirectional, Dense, Dropout, BatchNormalization\n",
    "from tensorflow.keras.optimizers import Adam\n",
    "from sklearn.model_selection import train_test_split\n",
    "from sklearn.preprocessing import LabelEncoder\n",
    "from tensorflow.keras.utils import to_categorical\n",
    "from pyswarm import pso\n",
    "from geneticalgorithm import geneticalgorithm as ga\n",
    "from mealpy.swarm_based.GWO import OriginalGWO\n",
    "\n",
    "# 🔹 Load your dataset here\n",
    "# Example: X = np.load('features.npy')  # Load precomputed MFCC features\n",
    "# Example: labels = np.load('labels.npy')  # Load corresponding labels\n",
    "\n",
    "if 'X' not in locals() or 'labels' not in locals():\n",
    "    raise ValueError(\"Dataset not loaded. Define X (features) and labels before proceeding.\")\n",
    "\n",
    "# Encode labels\n",
    "label_encoder = LabelEncoder()\n",
    "y = label_encoder.fit_transform(labels)  \n",
    "y = to_categorical(y)  # Convert labels to one-hot encoding\n",
    "\n",
    "# Train-Test Split\n",
    "X_train, X_test, y_train, y_test = train_test_split(X, y, test_size=0.2, random_state=42)\n",
    "\n",
    "print(\"✅ Data loaded and split successfully!\")\n",
    "print(f\"X_train shape: {X_train.shape}, y_train shape: {y_train.shape}\")\n",
    "print(f\"X_test shape: {X_test.shape}, y_test shape: {y_test.shape}\")\n"
   ]
  },
  {
   "cell_type": "code",
   "execution_count": 39,
   "id": "178ce0f3",
   "metadata": {},
   "outputs": [],
   "source": [
    "# Define training function (shared across all optimizers)\n",
    "def train_and_evaluate(params):\n",
    "    learning_rate, dropout_rate = params\n",
    "    model = Sequential([\n",
    "    Input(shape=(X_train.shape[1], X_train.shape[2])),  # Correct way to define input\n",
    "    Bidirectional(LSTM(128, return_sequences=True)),\n",
    "    BatchNormalization(),\n",
    "    Dropout(0.3),\n",
    "\n",
    "    Bidirectional(LSTM(64, return_sequences=False)),\n",
    "    BatchNormalization(),\n",
    "    Dropout(0.3),\n",
    "\n",
    "    Dense(32, activation='relu'),\n",
    "    Dropout(0.2),\n",
    "\n",
    "    Dense(y_train.shape[1], activation='softmax')  # Output layer (multi-class classification)\n",
    "])\n",
    "\n",
    "   \n",
    "    optimizer = Adam(learning_rate=learning_rate)\n",
    "    model.compile(loss='categorical_crossentropy', optimizer=optimizer, metrics=['accuracy'])\n",
    "\n",
    "    # Train for a few epochs to evaluate\n",
    "    history = model.fit(X_train, y_train, validation_data=(X_test, y_test), epochs=10, batch_size=32, verbose=0)\n",
    "\n",
    "    return -max(history.history['val_accuracy'])  # We minimize negative accuracy\n",
    "\n"
   ]
  },
  {
   "cell_type": "code",
   "execution_count": 25,
   "id": "6cb6096a",
   "metadata": {},
   "outputs": [
    {
     "name": "stdout",
     "output_type": "stream",
     "text": [
      "Stopping search: maximum iterations reached --> 3\n"
     ]
    }
   ],
   "source": [
    "# **Train Model 1: Using PSO**\n",
    "start_time = time.time()\n",
    "lb = [0.0001, 0.1]\n",
    "ub = [0.01, 0.5]\n",
    "best_params_pso, _ = pso(train_and_evaluate, lb, ub, swarmsize=5, maxiter=3)\n",
    "pso_time = time.time() - start_time\n",
    "best_lr_pso, best_dropout_pso = best_params_pso"
   ]
  },
  {
   "cell_type": "code",
   "execution_count": 54,
   "id": "1070f9e3",
   "metadata": {},
   "outputs": [],
   "source": []
  },
  {
   "cell_type": "code",
   "execution_count": 55,
   "id": "5405e0bf",
   "metadata": {},
   "outputs": [],
   "source": [
    "# **Train Final Models Using Optimized Parameters**\n",
    "def build_and_train_model(learning_rate, dropout_rate, optimizer_name):\n",
    "    model = Sequential([\n",
    "        Input(shape=(X_train.shape[1], X_train.shape[2])),  # ✅ Fixed input layer\n",
    "        Bidirectional(LSTM(128, return_sequences=True)),\n",
    "        BatchNormalization(),\n",
    "        Dropout(dropout_rate),\n",
    "\n",
    "        Bidirectional(LSTM(64, return_sequences=False)),\n",
    "        BatchNormalization(),\n",
    "        Dropout(dropout_rate),\n",
    "\n",
    "        Dense(32, activation='relu'),\n",
    "        Dropout(0.2),\n",
    "\n",
    "        Dense(y_train.shape[1], activation='softmax')  # Output layer\n",
    "    ])\n",
    "\n",
    "    optimizer = Adam(learning_rate=learning_rate)\n",
    "    model.compile(loss='categorical_crossentropy', optimizer=optimizer, metrics=['accuracy'])\n",
    "\n",
    "    # Train Final Model\n",
    "    history = model.fit(X_train, y_train, validation_data=(X_test, y_test), epochs=30, batch_size=32)\n",
    "    \n",
    "    # Save model\n",
    "    model.save(f\"keyword_spotting_model_{optimizer_name}.h5\")\n",
    "\n",
    "    return history"
   ]
  },
  {
   "cell_type": "code",
   "execution_count": 47,
   "id": "a41d9dfc",
   "metadata": {},
   "outputs": [
    {
     "name": "stdout",
     "output_type": "stream",
     "text": [
      "Epoch 1/30\n",
      "\u001b[1m276/276\u001b[0m \u001b[32m━━━━━━━━━━━━━━━━━━━━\u001b[0m\u001b[37m\u001b[0m \u001b[1m31s\u001b[0m 75ms/step - accuracy: 0.0754 - loss: 3.6146 - val_accuracy: 0.3398 - val_loss: 2.4225\n",
      "Epoch 2/30\n",
      "\u001b[1m276/276\u001b[0m \u001b[32m━━━━━━━━━━━━━━━━━━━━\u001b[0m\u001b[37m\u001b[0m \u001b[1m40s\u001b[0m 72ms/step - accuracy: 0.2997 - loss: 2.4159 - val_accuracy: 0.5248 - val_loss: 1.6411\n",
      "Epoch 3/30\n",
      "\u001b[1m276/276\u001b[0m \u001b[32m━━━━━━━━━━━━━━━━━━━━\u001b[0m\u001b[37m\u001b[0m \u001b[1m19s\u001b[0m 69ms/step - accuracy: 0.4593 - loss: 1.8207 - val_accuracy: 0.6161 - val_loss: 1.3121\n",
      "Epoch 4/30\n",
      "\u001b[1m276/276\u001b[0m \u001b[32m━━━━━━━━━━━━━━━━━━━━\u001b[0m\u001b[37m\u001b[0m \u001b[1m19s\u001b[0m 70ms/step - accuracy: 0.5652 - loss: 1.4720 - val_accuracy: 0.6724 - val_loss: 1.1310\n",
      "Epoch 5/30\n",
      "\u001b[1m276/276\u001b[0m \u001b[32m━━━━━━━━━━━━━━━━━━━━\u001b[0m\u001b[37m\u001b[0m \u001b[1m20s\u001b[0m 68ms/step - accuracy: 0.6268 - loss: 1.2414 - val_accuracy: 0.7110 - val_loss: 0.9709\n",
      "Epoch 6/30\n",
      "\u001b[1m276/276\u001b[0m \u001b[32m━━━━━━━━━━━━━━━━━━━━\u001b[0m\u001b[37m\u001b[0m \u001b[1m22s\u001b[0m 71ms/step - accuracy: 0.6463 - loss: 1.1503 - val_accuracy: 0.7238 - val_loss: 0.9057\n",
      "Epoch 7/30\n",
      "\u001b[1m276/276\u001b[0m \u001b[32m━━━━━━━━━━━━━━━━━━━━\u001b[0m\u001b[37m\u001b[0m \u001b[1m21s\u001b[0m 73ms/step - accuracy: 0.6833 - loss: 1.0348 - val_accuracy: 0.7542 - val_loss: 0.8343\n",
      "Epoch 8/30\n",
      "\u001b[1m276/276\u001b[0m \u001b[32m━━━━━━━━━━━━━━━━━━━━\u001b[0m\u001b[37m\u001b[0m \u001b[1m21s\u001b[0m 73ms/step - accuracy: 0.7043 - loss: 0.9804 - val_accuracy: 0.7315 - val_loss: 0.9187\n",
      "Epoch 9/30\n",
      "\u001b[1m276/276\u001b[0m \u001b[32m━━━━━━━━━━━━━━━━━━━━\u001b[0m\u001b[37m\u001b[0m \u001b[1m21s\u001b[0m 74ms/step - accuracy: 0.7106 - loss: 0.9467 - val_accuracy: 0.7751 - val_loss: 0.7211\n",
      "Epoch 10/30\n",
      "\u001b[1m276/276\u001b[0m \u001b[32m━━━━━━━━━━━━━━━━━━━━\u001b[0m\u001b[37m\u001b[0m \u001b[1m19s\u001b[0m 68ms/step - accuracy: 0.7383 - loss: 0.8589 - val_accuracy: 0.7728 - val_loss: 0.7419\n",
      "Epoch 11/30\n",
      "\u001b[1m276/276\u001b[0m \u001b[32m━━━━━━━━━━━━━━━━━━━━\u001b[0m\u001b[37m\u001b[0m \u001b[1m21s\u001b[0m 71ms/step - accuracy: 0.7404 - loss: 0.8481 - val_accuracy: 0.8060 - val_loss: 0.6774\n",
      "Epoch 12/30\n",
      "\u001b[1m276/276\u001b[0m \u001b[32m━━━━━━━━━━━━━━━━━━━━\u001b[0m\u001b[37m\u001b[0m \u001b[1m20s\u001b[0m 68ms/step - accuracy: 0.7523 - loss: 0.8285 - val_accuracy: 0.8101 - val_loss: 0.6631\n",
      "Epoch 13/30\n",
      "\u001b[1m276/276\u001b[0m \u001b[32m━━━━━━━━━━━━━━━━━━━━\u001b[0m\u001b[37m\u001b[0m \u001b[1m21s\u001b[0m 70ms/step - accuracy: 0.7699 - loss: 0.7594 - val_accuracy: 0.8105 - val_loss: 0.6287\n",
      "Epoch 14/30\n",
      "\u001b[1m276/276\u001b[0m \u001b[32m━━━━━━━━━━━━━━━━━━━━\u001b[0m\u001b[37m\u001b[0m \u001b[1m21s\u001b[0m 72ms/step - accuracy: 0.7848 - loss: 0.7012 - val_accuracy: 0.8196 - val_loss: 0.5795\n",
      "Epoch 15/30\n",
      "\u001b[1m276/276\u001b[0m \u001b[32m━━━━━━━━━━━━━━━━━━━━\u001b[0m\u001b[37m\u001b[0m \u001b[1m20s\u001b[0m 70ms/step - accuracy: 0.8049 - loss: 0.6225 - val_accuracy: 0.8160 - val_loss: 0.6275\n",
      "Epoch 16/30\n",
      "\u001b[1m276/276\u001b[0m \u001b[32m━━━━━━━━━━━━━━━━━━━━\u001b[0m\u001b[37m\u001b[0m \u001b[1m19s\u001b[0m 69ms/step - accuracy: 0.7838 - loss: 0.6899 - val_accuracy: 0.8151 - val_loss: 0.6167\n",
      "Epoch 17/30\n",
      "\u001b[1m276/276\u001b[0m \u001b[32m━━━━━━━━━━━━━━━━━━━━\u001b[0m\u001b[37m\u001b[0m \u001b[1m21s\u001b[0m 70ms/step - accuracy: 0.8149 - loss: 0.6141 - val_accuracy: 0.8269 - val_loss: 0.5753\n",
      "Epoch 18/30\n",
      "\u001b[1m276/276\u001b[0m \u001b[32m━━━━━━━━━━━━━━━━━━━━\u001b[0m\u001b[37m\u001b[0m \u001b[1m20s\u001b[0m 70ms/step - accuracy: 0.8254 - loss: 0.5823 - val_accuracy: 0.8242 - val_loss: 0.5941\n",
      "Epoch 19/30\n",
      "\u001b[1m276/276\u001b[0m \u001b[32m━━━━━━━━━━━━━━━━━━━━\u001b[0m\u001b[37m\u001b[0m \u001b[1m18s\u001b[0m 64ms/step - accuracy: 0.8195 - loss: 0.5958 - val_accuracy: 0.8442 - val_loss: 0.5424\n",
      "Epoch 20/30\n",
      "\u001b[1m276/276\u001b[0m \u001b[32m━━━━━━━━━━━━━━━━━━━━\u001b[0m\u001b[37m\u001b[0m \u001b[1m19s\u001b[0m 67ms/step - accuracy: 0.8263 - loss: 0.5448 - val_accuracy: 0.8442 - val_loss: 0.5575\n",
      "Epoch 21/30\n",
      "\u001b[1m276/276\u001b[0m \u001b[32m━━━━━━━━━━━━━━━━━━━━\u001b[0m\u001b[37m\u001b[0m \u001b[1m20s\u001b[0m 64ms/step - accuracy: 0.8362 - loss: 0.5406 - val_accuracy: 0.8355 - val_loss: 0.5637\n",
      "Epoch 22/30\n",
      "\u001b[1m276/276\u001b[0m \u001b[32m━━━━━━━━━━━━━━━━━━━━\u001b[0m\u001b[37m\u001b[0m \u001b[1m22s\u001b[0m 68ms/step - accuracy: 0.8348 - loss: 0.5180 - val_accuracy: 0.8501 - val_loss: 0.5315\n",
      "Epoch 23/30\n",
      "\u001b[1m276/276\u001b[0m \u001b[32m━━━━━━━━━━━━━━━━━━━━\u001b[0m\u001b[37m\u001b[0m \u001b[1m19s\u001b[0m 64ms/step - accuracy: 0.8508 - loss: 0.4756 - val_accuracy: 0.8573 - val_loss: 0.5190\n",
      "Epoch 24/30\n",
      "\u001b[1m276/276\u001b[0m \u001b[32m━━━━━━━━━━━━━━━━━━━━\u001b[0m\u001b[37m\u001b[0m \u001b[1m19s\u001b[0m 69ms/step - accuracy: 0.8507 - loss: 0.4858 - val_accuracy: 0.8387 - val_loss: 0.5844\n",
      "Epoch 25/30\n",
      "\u001b[1m276/276\u001b[0m \u001b[32m━━━━━━━━━━━━━━━━━━━━\u001b[0m\u001b[37m\u001b[0m \u001b[1m21s\u001b[0m 69ms/step - accuracy: 0.8474 - loss: 0.4854 - val_accuracy: 0.8532 - val_loss: 0.5190\n",
      "Epoch 26/30\n",
      "\u001b[1m276/276\u001b[0m \u001b[32m━━━━━━━━━━━━━━━━━━━━\u001b[0m\u001b[37m\u001b[0m \u001b[1m21s\u001b[0m 72ms/step - accuracy: 0.8623 - loss: 0.4500 - val_accuracy: 0.8496 - val_loss: 0.5341\n",
      "Epoch 27/30\n",
      "\u001b[1m276/276\u001b[0m \u001b[32m━━━━━━━━━━━━━━━━━━━━\u001b[0m\u001b[37m\u001b[0m \u001b[1m20s\u001b[0m 73ms/step - accuracy: 0.8571 - loss: 0.4556 - val_accuracy: 0.8596 - val_loss: 0.5182\n",
      "Epoch 28/30\n",
      "\u001b[1m276/276\u001b[0m \u001b[32m━━━━━━━━━━━━━━━━━━━━\u001b[0m\u001b[37m\u001b[0m \u001b[1m20s\u001b[0m 72ms/step - accuracy: 0.8644 - loss: 0.4372 - val_accuracy: 0.8451 - val_loss: 0.5731\n",
      "Epoch 29/30\n",
      "\u001b[1m276/276\u001b[0m \u001b[32m━━━━━━━━━━━━━━━━━━━━\u001b[0m\u001b[37m\u001b[0m \u001b[1m21s\u001b[0m 72ms/step - accuracy: 0.8718 - loss: 0.4139 - val_accuracy: 0.8510 - val_loss: 0.5251\n",
      "Epoch 30/30\n",
      "\u001b[1m276/276\u001b[0m \u001b[32m━━━━━━━━━━━━━━━━━━━━\u001b[0m\u001b[37m\u001b[0m \u001b[1m21s\u001b[0m 72ms/step - accuracy: 0.8720 - loss: 0.4076 - val_accuracy: 0.8537 - val_loss: 0.5771\n"
     ]
    },
    {
     "name": "stderr",
     "output_type": "stream",
     "text": [
      "WARNING:absl:You are saving your model as an HDF5 file via `model.save()` or `keras.saving.save_model(model)`. This file format is considered legacy. We recommend using instead the native Keras format, e.g. `model.save('my_model.keras')` or `keras.saving.save_model(model, 'my_model.keras')`. \n"
     ]
    }
   ],
   "source": [
    "history_pso = build_and_train_model(best_lr_pso, best_dropout_pso, \"pso\")"
   ]
  },
  {
   "cell_type": "code",
   "execution_count": 58,
   "id": "a65e2a68",
   "metadata": {},
   "outputs": [],
   "source": [
    "from tensorflow.keras.optimizers import Adam\n",
    "from tensorflow.keras.models import Sequential\n",
    "from tensorflow.keras.layers import LSTM, Bidirectional, Dense, Dropout, BatchNormalization, Input\n",
    "from tensorflow.keras.callbacks import EarlyStopping\n",
    "\n",
    "def train_and_evaluate(params, X_train, y_train, X_test, y_test):\n",
    "    learning_rate, dropout_rate = params\n",
    "\n",
    "    # Ensure params are valid\n",
    "    if not (0.0001 <= learning_rate <= 0.01 and 0.1 <= dropout_rate <= 0.5):\n",
    "        return 1e6  # Large loss for invalid values\n",
    "\n",
    "    if X_train is None or y_train is None:\n",
    "        return 1e6  # Large loss if data is missing\n",
    "\n",
    "    # Model Definition\n",
    "    model = Sequential([\n",
    "        Input(shape=(X_train.shape[1], X_train.shape[2])),\n",
    "        Bidirectional(LSTM(128, return_sequences=True)),\n",
    "        BatchNormalization(),\n",
    "        Dropout(dropout_rate),\n",
    "\n",
    "        Bidirectional(LSTM(64, return_sequences=False)),\n",
    "        BatchNormalization(),\n",
    "        Dropout(dropout_rate),\n",
    "\n",
    "        Dense(32, activation='relu'),\n",
    "        Dropout(0.2),\n",
    "\n",
    "        Dense(y_train.shape[1], activation='softmax')  # Output layer\n",
    "    ])\n",
    "\n",
    "    # Compile Model\n",
    "    optimizer = Adam(learning_rate=learning_rate)\n",
    "    model.compile(loss='categorical_crossentropy', optimizer=optimizer, metrics=['accuracy'])\n",
    "\n",
    "    # Train Model (Shorter Training)\n",
    "    history = model.fit(X_train, y_train, validation_data=(X_test, y_test), epochs=3, batch_size=16, verbose=0)\n",
    "\n",
    "    # Ensure valid accuracy\n",
    "    val_acc = history.history.get('val_accuracy', [0])\n",
    "    return -max(val_acc) if val_acc else 1e6  # Minimize loss\n"
   ]
  },
  {
   "cell_type": "code",
   "execution_count": 59,
   "id": "0fcdcf3e",
   "metadata": {},
   "outputs": [
    {
     "name": "stdout",
     "output_type": "stream",
     "text": [
      " The best solution found:                                                                           \n",
      " [0.00306896 0.22745524]\n",
      "\n",
      " Objective function:\n",
      " -0.6201726198196411\n"
     ]
    },
    {
     "data": {
      "image/png": "[encoded data removed]",
      "text/plain": [
       "<Figure size 640x480 with 1 Axes>"
      ]
     },
     "metadata": {},
     "output_type": "display_data"
    },
    {
     "name": "stdout",
     "output_type": "stream",
     "text": [
      "\n",
      "Warning: GA is terminated due to the maximum number of iterations without improvement was met!"
     ]
    }
   ],
   "source": [
    "\n",
    "# **Train Model 2: Using GA**\n",
    "start_time = time.time()\n",
    "var_bound = np.array([[0.0001, 0.01], [0.1, 0.5]])\n",
    "# GA Parameters\n",
    "algorithm_param = {\n",
    "    'max_num_iteration': 20,  # Increase iterations for better search\n",
    "    'population_size': 20,    # Larger population size for better exploration\n",
    "    'mutation_probability': 0.1,\n",
    "    'elit_ratio': 0.1,        # More elite selection\n",
    "    'crossover_probability': 0.5,\n",
    "    'parents_portion': 0.3,\n",
    "    'crossover_type': 'uniform',\n",
    "    'max_iteration_without_improv': 5  # More patience for improvements\n",
    "}\n",
    "# Start training using GA\n",
    "start_time = time.time()\n",
    "\n",
    "# Define the Genetic Algorithm optimization\n",
    "model_ga = ga(\n",
    "    function=lambda p: train_and_evaluate(p, X_train, y_train, X_test, y_test),  # Wrap function\n",
    "    dimension=2,\n",
    "    variable_type='real',\n",
    "    variable_boundaries=np.array([[0.0001, 0.01], [0.1, 0.5]]),\n",
    "    algorithm_parameters={\n",
    "        'max_num_iteration': 5,\n",
    "        'population_size': 10,\n",
    "        'mutation_probability': 0.1,\n",
    "        'elit_ratio': 0.01,\n",
    "        'crossover_probability': 0.5,\n",
    "        'parents_portion': 0.3,\n",
    "        'crossover_type': 'uniform',\n",
    "        'max_iteration_without_improv': 2\n",
    "    },\n",
    "    function_timeout=300  # Increase timeout\n",
    ")\n",
    "\n",
    "# Run Genetic Algorithm Optimization\n",
    "model_ga.run()\n",
    "\n",
    "# Get best parameters\n",
    "best_lr_ga, best_dropout_ga = model_ga.output_dict['variable']\n",
    "\n",
    "\n",
    "ga_time = time.time() - start_time"
   ]
  },
  {
   "cell_type": "code",
   "execution_count": null,
   "id": "94352e3d",
   "metadata": {},
   "outputs": [],
   "source": []
  },
  {
   "cell_type": "code",
   "execution_count": 60,
   "id": "67770daf",
   "metadata": {},
   "outputs": [
    {
     "name": "stdout",
     "output_type": "stream",
     "text": [
      "Epoch 1/30\n",
      "\u001b[1m276/276\u001b[0m \u001b[32m━━━━━━━━━━━━━━━━━━━━\u001b[0m\u001b[37m\u001b[0m \u001b[1m31s\u001b[0m 63ms/step - accuracy: 0.1415 - loss: 3.2403 - val_accuracy: 0.4162 - val_loss: 1.9991\n",
      "Epoch 2/30\n",
      "\u001b[1m276/276\u001b[0m \u001b[32m━━━━━━━━━━━━━━━━━━━━\u001b[0m\u001b[37m\u001b[0m \u001b[1m16s\u001b[0m 59ms/step - accuracy: 0.4233 - loss: 1.9227 - val_accuracy: 0.5525 - val_loss: 1.5010\n",
      "Epoch 3/30\n",
      "\u001b[1m276/276\u001b[0m \u001b[32m━━━━━━━━━━━━━━━━━━━━\u001b[0m\u001b[37m\u001b[0m \u001b[1m16s\u001b[0m 59ms/step - accuracy: 0.5329 - loss: 1.5095 - val_accuracy: 0.6688 - val_loss: 1.1272\n",
      "Epoch 4/30\n",
      "\u001b[1m276/276\u001b[0m \u001b[32m━━━━━━━━━━━━━━━━━━━━\u001b[0m\u001b[37m\u001b[0m \u001b[1m16s\u001b[0m 60ms/step - accuracy: 0.5787 - loss: 1.3972 - val_accuracy: 0.6065 - val_loss: 1.3017\n",
      "Epoch 5/30\n",
      "\u001b[1m276/276\u001b[0m \u001b[32m━━━━━━━━━━━━━━━━━━━━\u001b[0m\u001b[37m\u001b[0m \u001b[1m16s\u001b[0m 59ms/step - accuracy: 0.6191 - loss: 1.2684 - val_accuracy: 0.6329 - val_loss: 1.1760\n",
      "Epoch 6/30\n",
      "\u001b[1m276/276\u001b[0m \u001b[32m━━━━━━━━━━━━━━━━━━━━\u001b[0m\u001b[37m\u001b[0m \u001b[1m16s\u001b[0m 59ms/step - accuracy: 0.6421 - loss: 1.2009 - val_accuracy: 0.7383 - val_loss: 0.8961\n",
      "Epoch 7/30\n",
      "\u001b[1m276/276\u001b[0m \u001b[32m━━━━━━━━━━━━━━━━━━━━\u001b[0m\u001b[37m\u001b[0m \u001b[1m16s\u001b[0m 57ms/step - accuracy: 0.6674 - loss: 1.1061 - val_accuracy: 0.7206 - val_loss: 0.8844\n",
      "Epoch 8/30\n",
      "\u001b[1m276/276\u001b[0m \u001b[32m━━━━━━━━━━━━━━━━━━━━\u001b[0m\u001b[37m\u001b[0m \u001b[1m15s\u001b[0m 56ms/step - accuracy: 0.6598 - loss: 1.1174 - val_accuracy: 0.7378 - val_loss: 0.8427\n",
      "Epoch 9/30\n",
      "\u001b[1m276/276\u001b[0m \u001b[32m━━━━━━━━━━━━━━━━━━━━\u001b[0m\u001b[37m\u001b[0m \u001b[1m16s\u001b[0m 60ms/step - accuracy: 0.6775 - loss: 1.0686 - val_accuracy: 0.7160 - val_loss: 0.9206\n",
      "Epoch 10/30\n",
      "\u001b[1m276/276\u001b[0m \u001b[32m━━━━━━━━━━━━━━━━━━━━\u001b[0m\u001b[37m\u001b[0m \u001b[1m16s\u001b[0m 59ms/step - accuracy: 0.6800 - loss: 1.0558 - val_accuracy: 0.7160 - val_loss: 0.9372\n",
      "Epoch 11/30\n",
      "\u001b[1m276/276\u001b[0m \u001b[32m━━━━━━━━━━━━━━━━━━━━\u001b[0m\u001b[37m\u001b[0m \u001b[1m16s\u001b[0m 57ms/step - accuracy: 0.7002 - loss: 0.9899 - val_accuracy: 0.7360 - val_loss: 0.8559\n",
      "Epoch 12/30\n",
      "\u001b[1m276/276\u001b[0m \u001b[32m━━━━━━━━━━━━━━━━━━━━\u001b[0m\u001b[37m\u001b[0m \u001b[1m16s\u001b[0m 58ms/step - accuracy: 0.7154 - loss: 0.9461 - val_accuracy: 0.7756 - val_loss: 0.7594\n",
      "Epoch 13/30\n",
      "\u001b[1m276/276\u001b[0m \u001b[32m━━━━━━━━━━━━━━━━━━━━\u001b[0m\u001b[37m\u001b[0m \u001b[1m16s\u001b[0m 56ms/step - accuracy: 0.7357 - loss: 0.8877 - val_accuracy: 0.7697 - val_loss: 0.7765\n",
      "Epoch 14/30\n",
      "\u001b[1m276/276\u001b[0m \u001b[32m━━━━━━━━━━━━━━━━━━━━\u001b[0m\u001b[37m\u001b[0m \u001b[1m16s\u001b[0m 57ms/step - accuracy: 0.7440 - loss: 0.8723 - val_accuracy: 0.7969 - val_loss: 0.6887\n",
      "Epoch 15/30\n",
      "\u001b[1m276/276\u001b[0m \u001b[32m━━━━━━━━━━━━━━━━━━━━\u001b[0m\u001b[37m\u001b[0m \u001b[1m16s\u001b[0m 58ms/step - accuracy: 0.7528 - loss: 0.8174 - val_accuracy: 0.8028 - val_loss: 0.6485\n",
      "Epoch 16/30\n",
      "\u001b[1m276/276\u001b[0m \u001b[32m━━━━━━━━━━━━━━━━━━━━\u001b[0m\u001b[37m\u001b[0m \u001b[1m16s\u001b[0m 57ms/step - accuracy: 0.7466 - loss: 0.8406 - val_accuracy: 0.7987 - val_loss: 0.6897\n",
      "Epoch 17/30\n",
      "\u001b[1m276/276\u001b[0m \u001b[32m━━━━━━━━━━━━━━━━━━━━\u001b[0m\u001b[37m\u001b[0m \u001b[1m17s\u001b[0m 60ms/step - accuracy: 0.7586 - loss: 0.8144 - val_accuracy: 0.8083 - val_loss: 0.6743\n",
      "Epoch 18/30\n",
      "\u001b[1m276/276\u001b[0m \u001b[32m━━━━━━━━━━━━━━━━━━━━\u001b[0m\u001b[37m\u001b[0m \u001b[1m16s\u001b[0m 59ms/step - accuracy: 0.7538 - loss: 0.8153 - val_accuracy: 0.8101 - val_loss: 0.6517\n",
      "Epoch 19/30\n",
      "\u001b[1m276/276\u001b[0m \u001b[32m━━━━━━━━━━━━━━━━━━━━\u001b[0m\u001b[37m\u001b[0m \u001b[1m16s\u001b[0m 57ms/step - accuracy: 0.7367 - loss: 0.8812 - val_accuracy: 0.7869 - val_loss: 0.7357\n",
      "Epoch 20/30\n",
      "\u001b[1m276/276\u001b[0m \u001b[32m━━━━━━━━━━━━━━━━━━━━\u001b[0m\u001b[37m\u001b[0m \u001b[1m16s\u001b[0m 59ms/step - accuracy: 0.7736 - loss: 0.7501 - val_accuracy: 0.8065 - val_loss: 0.6651\n",
      "Epoch 21/30\n",
      "\u001b[1m276/276\u001b[0m \u001b[32m━━━━━━━━━━━━━━━━━━━━\u001b[0m\u001b[37m\u001b[0m \u001b[1m16s\u001b[0m 58ms/step - accuracy: 0.7810 - loss: 0.7297 - val_accuracy: 0.8201 - val_loss: 0.6396\n",
      "Epoch 22/30\n",
      "\u001b[1m276/276\u001b[0m \u001b[32m━━━━━━━━━━━━━━━━━━━━\u001b[0m\u001b[37m\u001b[0m \u001b[1m16s\u001b[0m 57ms/step - accuracy: 0.7833 - loss: 0.7262 - val_accuracy: 0.8323 - val_loss: 0.5895\n",
      "Epoch 23/30\n",
      "\u001b[1m276/276\u001b[0m \u001b[32m━━━━━━━━━━━━━━━━━━━━\u001b[0m\u001b[37m\u001b[0m \u001b[1m16s\u001b[0m 58ms/step - accuracy: 0.7864 - loss: 0.7140 - val_accuracy: 0.8024 - val_loss: 0.6596\n",
      "Epoch 24/30\n",
      "\u001b[1m276/276\u001b[0m \u001b[32m━━━━━━━━━━━━━━━━━━━━\u001b[0m\u001b[37m\u001b[0m \u001b[1m16s\u001b[0m 58ms/step - accuracy: 0.8074 - loss: 0.6376 - val_accuracy: 0.8051 - val_loss: 0.6553\n",
      "Epoch 25/30\n",
      "\u001b[1m276/276\u001b[0m \u001b[32m━━━━━━━━━━━━━━━━━━━━\u001b[0m\u001b[37m\u001b[0m \u001b[1m16s\u001b[0m 57ms/step - accuracy: 0.7727 - loss: 0.7443 - val_accuracy: 0.8410 - val_loss: 0.5560\n",
      "Epoch 26/30\n",
      "\u001b[1m276/276\u001b[0m \u001b[32m━━━━━━━━━━━━━━━━━━━━\u001b[0m\u001b[37m\u001b[0m \u001b[1m16s\u001b[0m 57ms/step - accuracy: 0.7940 - loss: 0.6757 - val_accuracy: 0.8323 - val_loss: 0.5769\n",
      "Epoch 27/30\n",
      "\u001b[1m276/276\u001b[0m \u001b[32m━━━━━━━━━━━━━━━━━━━━\u001b[0m\u001b[37m\u001b[0m \u001b[1m16s\u001b[0m 58ms/step - accuracy: 0.7901 - loss: 0.6895 - val_accuracy: 0.8205 - val_loss: 0.6188\n",
      "Epoch 28/30\n",
      "\u001b[1m276/276\u001b[0m \u001b[32m━━━━━━━━━━━━━━━━━━━━\u001b[0m\u001b[37m\u001b[0m \u001b[1m16s\u001b[0m 58ms/step - accuracy: 0.8005 - loss: 0.6764 - val_accuracy: 0.8364 - val_loss: 0.5709\n",
      "Epoch 29/30\n",
      "\u001b[1m276/276\u001b[0m \u001b[32m━━━━━━━━━━━━━━━━━━━━\u001b[0m\u001b[37m\u001b[0m \u001b[1m16s\u001b[0m 57ms/step - accuracy: 0.7991 - loss: 0.6701 - val_accuracy: 0.8269 - val_loss: 0.6028\n",
      "Epoch 30/30\n",
      "\u001b[1m276/276\u001b[0m \u001b[32m━━━━━━━━━━━━━━━━━━━━\u001b[0m\u001b[37m\u001b[0m \u001b[1m17s\u001b[0m 62ms/step - accuracy: 0.7974 - loss: 0.6717 - val_accuracy: 0.8346 - val_loss: 0.5589\n"
     ]
    },
    {
     "name": "stderr",
     "output_type": "stream",
     "text": [
      "WARNING:absl:You are saving your model as an HDF5 file via `model.save()` or `keras.saving.save_model(model)`. This file format is considered legacy. We recommend using instead the native Keras format, e.g. `model.save('my_model.keras')` or `keras.saving.save_model(model, 'my_model.keras')`. \n"
     ]
    }
   ],
   "source": [
    "history_ga = build_and_train_model(best_lr_ga, best_dropout_ga, \"ga\")"
   ]
  },
  {
   "cell_type": "code",
   "execution_count": 70,
   "id": "a9fcdeb4",
   "metadata": {},
   "outputs": [
    {
     "ename": "KeyboardInterrupt",
     "evalue": "",
     "output_type": "error",
     "traceback": [
      "\u001b[1;31m---------------------------------------------------------------------------\u001b[0m",
      "\u001b[1;31mKeyboardInterrupt\u001b[0m                         Traceback (most recent call last)",
      "Cell \u001b[1;32mIn[70], line 24\u001b[0m\n\u001b[0;32m     21\u001b[0m gwo \u001b[38;5;241m=\u001b[39m OriginalGWO()\n\u001b[0;32m     23\u001b[0m \u001b[38;5;66;03m# Solve the problem\u001b[39;00m\n\u001b[1;32m---> 24\u001b[0m best_solution_gwo \u001b[38;5;241m=\u001b[39m gwo\u001b[38;5;241m.\u001b[39msolve(problem, mode\u001b[38;5;241m=\u001b[39m\u001b[38;5;124m\"\u001b[39m\u001b[38;5;124msingle\u001b[39m\u001b[38;5;124m\"\u001b[39m, n_workers\u001b[38;5;241m=\u001b[39m\u001b[38;5;241m1\u001b[39m)\n\u001b[0;32m     26\u001b[0m gwo_time \u001b[38;5;241m=\u001b[39m time\u001b[38;5;241m.\u001b[39mtime() \u001b[38;5;241m-\u001b[39m start_time\n\u001b[0;32m     28\u001b[0m \u001b[38;5;66;03m# Extract best learning rate and dropout\u001b[39;00m\n",
      "File \u001b[1;32m~\\anaconda3new\\Lib\\site-packages\\mealpy\\optimizer.py:237\u001b[0m, in \u001b[0;36mOptimizer.solve\u001b[1;34m(self, problem, mode, n_workers, termination, starting_solutions, seed)\u001b[0m\n\u001b[0;32m    234\u001b[0m time_epoch \u001b[38;5;241m=\u001b[39m time\u001b[38;5;241m.\u001b[39mperf_counter()\n\u001b[0;32m    236\u001b[0m \u001b[38;5;66;03m## Evolve method will be called in child class\u001b[39;00m\n\u001b[1;32m--> 237\u001b[0m \u001b[38;5;28mself\u001b[39m\u001b[38;5;241m.\u001b[39mevolve(epoch)\n\u001b[0;32m    239\u001b[0m \u001b[38;5;66;03m# Update global best solution, the population is sorted or not depended on algorithm's strategy\u001b[39;00m\n\u001b[0;32m    240\u001b[0m pop_temp, \u001b[38;5;28mself\u001b[39m\u001b[38;5;241m.\u001b[39mg_best \u001b[38;5;241m=\u001b[39m \u001b[38;5;28mself\u001b[39m\u001b[38;5;241m.\u001b[39mupdate_global_best_agent(\u001b[38;5;28mself\u001b[39m\u001b[38;5;241m.\u001b[39mpop)\n",
      "File \u001b[1;32m~\\anaconda3new\\Lib\\site-packages\\mealpy\\swarm_based\\GWO.py:81\u001b[0m, in \u001b[0;36mOriginalGWO.evolve\u001b[1;34m(self, epoch)\u001b[0m\n\u001b[0;32m     79\u001b[0m     pop_new\u001b[38;5;241m.\u001b[39mappend(agent)\n\u001b[0;32m     80\u001b[0m     \u001b[38;5;28;01mif\u001b[39;00m \u001b[38;5;28mself\u001b[39m\u001b[38;5;241m.\u001b[39mmode \u001b[38;5;129;01mnot\u001b[39;00m \u001b[38;5;129;01min\u001b[39;00m \u001b[38;5;28mself\u001b[39m\u001b[38;5;241m.\u001b[39mAVAILABLE_MODES:\n\u001b[1;32m---> 81\u001b[0m         agent\u001b[38;5;241m.\u001b[39mtarget \u001b[38;5;241m=\u001b[39m \u001b[38;5;28mself\u001b[39m\u001b[38;5;241m.\u001b[39mget_target(pos_new)\n\u001b[0;32m     82\u001b[0m         \u001b[38;5;28mself\u001b[39m\u001b[38;5;241m.\u001b[39mpop[idx] \u001b[38;5;241m=\u001b[39m \u001b[38;5;28mself\u001b[39m\u001b[38;5;241m.\u001b[39mget_better_agent(agent, \u001b[38;5;28mself\u001b[39m\u001b[38;5;241m.\u001b[39mpop[idx], \u001b[38;5;28mself\u001b[39m\u001b[38;5;241m.\u001b[39mproblem\u001b[38;5;241m.\u001b[39mminmax)\n\u001b[0;32m     83\u001b[0m \u001b[38;5;28;01mif\u001b[39;00m \u001b[38;5;28mself\u001b[39m\u001b[38;5;241m.\u001b[39mmode \u001b[38;5;129;01min\u001b[39;00m \u001b[38;5;28mself\u001b[39m\u001b[38;5;241m.\u001b[39mAVAILABLE_MODES:\n",
      "File \u001b[1;32m~\\anaconda3new\\Lib\\site-packages\\mealpy\\optimizer.py:406\u001b[0m, in \u001b[0;36mOptimizer.get_target\u001b[1;34m(self, solution, counted)\u001b[0m\n\u001b[0;32m    404\u001b[0m \u001b[38;5;28;01mif\u001b[39;00m counted:\n\u001b[0;32m    405\u001b[0m     \u001b[38;5;28mself\u001b[39m\u001b[38;5;241m.\u001b[39mnfe_counter \u001b[38;5;241m+\u001b[39m\u001b[38;5;241m=\u001b[39m \u001b[38;5;241m1\u001b[39m\n\u001b[1;32m--> 406\u001b[0m \u001b[38;5;28;01mreturn\u001b[39;00m \u001b[38;5;28mself\u001b[39m\u001b[38;5;241m.\u001b[39mproblem\u001b[38;5;241m.\u001b[39mget_target(solution)\n",
      "File \u001b[1;32m~\\anaconda3new\\Lib\\site-packages\\mealpy\\utils\\problem.py:200\u001b[0m, in \u001b[0;36mProblem.get_target\u001b[1;34m(self, solution)\u001b[0m\n\u001b[0;32m    192\u001b[0m \u001b[38;5;28;01mdef\u001b[39;00m \u001b[38;5;21mget_target\u001b[39m(\u001b[38;5;28mself\u001b[39m, solution: np\u001b[38;5;241m.\u001b[39mndarray) \u001b[38;5;241m-\u001b[39m\u001b[38;5;241m>\u001b[39m Target:\n\u001b[0;32m    193\u001b[0m \u001b[38;5;250m    \u001b[39m\u001b[38;5;124;03m\"\"\"\u001b[39;00m\n\u001b[0;32m    194\u001b[0m \u001b[38;5;124;03m    Args:\u001b[39;00m\n\u001b[0;32m    195\u001b[0m \u001b[38;5;124;03m        solution: The real-value solution\u001b[39;00m\n\u001b[1;32m   (...)\u001b[0m\n\u001b[0;32m    198\u001b[0m \u001b[38;5;124;03m        The target object\u001b[39;00m\n\u001b[0;32m    199\u001b[0m \u001b[38;5;124;03m    \"\"\"\u001b[39;00m\n\u001b[1;32m--> 200\u001b[0m     objs \u001b[38;5;241m=\u001b[39m \u001b[38;5;28mself\u001b[39m\u001b[38;5;241m.\u001b[39mobj_func(solution)\n\u001b[0;32m    201\u001b[0m     \u001b[38;5;28;01mreturn\u001b[39;00m Target(objectives\u001b[38;5;241m=\u001b[39mobjs, weights\u001b[38;5;241m=\u001b[39m\u001b[38;5;28mself\u001b[39m\u001b[38;5;241m.\u001b[39mobj_weights)\n",
      "Cell \u001b[1;32mIn[70], line 9\u001b[0m, in \u001b[0;36mgwo_objective\u001b[1;34m(solution)\u001b[0m\n\u001b[0;32m      7\u001b[0m \u001b[38;5;28;01mdef\u001b[39;00m \u001b[38;5;21mgwo_objective\u001b[39m(solution):\n\u001b[0;32m      8\u001b[0m     lr, dropout \u001b[38;5;241m=\u001b[39m solution  \u001b[38;5;66;03m# Extract the learning rate and dropout\u001b[39;00m\n\u001b[1;32m----> 9\u001b[0m     \u001b[38;5;28;01mreturn\u001b[39;00m train_and_evaluate(solution, X_train, y_train, X_test, y_test)\n",
      "Cell \u001b[1;32mIn[58], line 38\u001b[0m, in \u001b[0;36mtrain_and_evaluate\u001b[1;34m(params, X_train, y_train, X_test, y_test)\u001b[0m\n\u001b[0;32m     35\u001b[0m model\u001b[38;5;241m.\u001b[39mcompile(loss\u001b[38;5;241m=\u001b[39m\u001b[38;5;124m'\u001b[39m\u001b[38;5;124mcategorical_crossentropy\u001b[39m\u001b[38;5;124m'\u001b[39m, optimizer\u001b[38;5;241m=\u001b[39moptimizer, metrics\u001b[38;5;241m=\u001b[39m[\u001b[38;5;124m'\u001b[39m\u001b[38;5;124maccuracy\u001b[39m\u001b[38;5;124m'\u001b[39m])\n\u001b[0;32m     37\u001b[0m \u001b[38;5;66;03m# Train Model (Shorter Training)\u001b[39;00m\n\u001b[1;32m---> 38\u001b[0m history \u001b[38;5;241m=\u001b[39m model\u001b[38;5;241m.\u001b[39mfit(X_train, y_train, validation_data\u001b[38;5;241m=\u001b[39m(X_test, y_test), epochs\u001b[38;5;241m=\u001b[39m\u001b[38;5;241m3\u001b[39m, batch_size\u001b[38;5;241m=\u001b[39m\u001b[38;5;241m16\u001b[39m, verbose\u001b[38;5;241m=\u001b[39m\u001b[38;5;241m0\u001b[39m)\n\u001b[0;32m     40\u001b[0m \u001b[38;5;66;03m# Ensure valid accuracy\u001b[39;00m\n\u001b[0;32m     41\u001b[0m val_acc \u001b[38;5;241m=\u001b[39m history\u001b[38;5;241m.\u001b[39mhistory\u001b[38;5;241m.\u001b[39mget(\u001b[38;5;124m'\u001b[39m\u001b[38;5;124mval_accuracy\u001b[39m\u001b[38;5;124m'\u001b[39m, [\u001b[38;5;241m0\u001b[39m])\n",
      "File \u001b[1;32m~\\anaconda3new\\Lib\\site-packages\\keras\\src\\utils\\traceback_utils.py:117\u001b[0m, in \u001b[0;36mfilter_traceback.<locals>.error_handler\u001b[1;34m(*args, **kwargs)\u001b[0m\n\u001b[0;32m    115\u001b[0m filtered_tb \u001b[38;5;241m=\u001b[39m \u001b[38;5;28;01mNone\u001b[39;00m\n\u001b[0;32m    116\u001b[0m \u001b[38;5;28;01mtry\u001b[39;00m:\n\u001b[1;32m--> 117\u001b[0m     \u001b[38;5;28;01mreturn\u001b[39;00m fn(\u001b[38;5;241m*\u001b[39margs, \u001b[38;5;241m*\u001b[39m\u001b[38;5;241m*\u001b[39mkwargs)\n\u001b[0;32m    118\u001b[0m \u001b[38;5;28;01mexcept\u001b[39;00m \u001b[38;5;167;01mException\u001b[39;00m \u001b[38;5;28;01mas\u001b[39;00m e:\n\u001b[0;32m    119\u001b[0m     filtered_tb \u001b[38;5;241m=\u001b[39m _process_traceback_frames(e\u001b[38;5;241m.\u001b[39m__traceback__)\n",
      "File \u001b[1;32m~\\anaconda3new\\Lib\\site-packages\\keras\\src\\backend\\tensorflow\\trainer.py:371\u001b[0m, in \u001b[0;36mTensorFlowTrainer.fit\u001b[1;34m(self, x, y, batch_size, epochs, verbose, callbacks, validation_split, validation_data, shuffle, class_weight, sample_weight, initial_epoch, steps_per_epoch, validation_steps, validation_batch_size, validation_freq)\u001b[0m\n\u001b[0;32m    369\u001b[0m \u001b[38;5;28;01mfor\u001b[39;00m step, iterator \u001b[38;5;129;01min\u001b[39;00m epoch_iterator:\n\u001b[0;32m    370\u001b[0m     callbacks\u001b[38;5;241m.\u001b[39mon_train_batch_begin(step)\n\u001b[1;32m--> 371\u001b[0m     logs \u001b[38;5;241m=\u001b[39m \u001b[38;5;28mself\u001b[39m\u001b[38;5;241m.\u001b[39mtrain_function(iterator)\n\u001b[0;32m    372\u001b[0m     callbacks\u001b[38;5;241m.\u001b[39mon_train_batch_end(step, logs)\n\u001b[0;32m    373\u001b[0m     \u001b[38;5;28;01mif\u001b[39;00m \u001b[38;5;28mself\u001b[39m\u001b[38;5;241m.\u001b[39mstop_training:\n",
      "File \u001b[1;32m~\\anaconda3new\\Lib\\site-packages\\keras\\src\\backend\\tensorflow\\trainer.py:219\u001b[0m, in \u001b[0;36mTensorFlowTrainer._make_function.<locals>.function\u001b[1;34m(iterator)\u001b[0m\n\u001b[0;32m    215\u001b[0m \u001b[38;5;28;01mdef\u001b[39;00m \u001b[38;5;21mfunction\u001b[39m(iterator):\n\u001b[0;32m    216\u001b[0m     \u001b[38;5;28;01mif\u001b[39;00m \u001b[38;5;28misinstance\u001b[39m(\n\u001b[0;32m    217\u001b[0m         iterator, (tf\u001b[38;5;241m.\u001b[39mdata\u001b[38;5;241m.\u001b[39mIterator, tf\u001b[38;5;241m.\u001b[39mdistribute\u001b[38;5;241m.\u001b[39mDistributedIterator)\n\u001b[0;32m    218\u001b[0m     ):\n\u001b[1;32m--> 219\u001b[0m         opt_outputs \u001b[38;5;241m=\u001b[39m multi_step_on_iterator(iterator)\n\u001b[0;32m    220\u001b[0m         \u001b[38;5;28;01mif\u001b[39;00m \u001b[38;5;129;01mnot\u001b[39;00m opt_outputs\u001b[38;5;241m.\u001b[39mhas_value():\n\u001b[0;32m    221\u001b[0m             \u001b[38;5;28;01mraise\u001b[39;00m \u001b[38;5;167;01mStopIteration\u001b[39;00m\n",
      "File \u001b[1;32m~\\anaconda3new\\Lib\\site-packages\\tensorflow\\python\\util\\traceback_utils.py:150\u001b[0m, in \u001b[0;36mfilter_traceback.<locals>.error_handler\u001b[1;34m(*args, **kwargs)\u001b[0m\n\u001b[0;32m    148\u001b[0m filtered_tb \u001b[38;5;241m=\u001b[39m \u001b[38;5;28;01mNone\u001b[39;00m\n\u001b[0;32m    149\u001b[0m \u001b[38;5;28;01mtry\u001b[39;00m:\n\u001b[1;32m--> 150\u001b[0m   \u001b[38;5;28;01mreturn\u001b[39;00m fn(\u001b[38;5;241m*\u001b[39margs, \u001b[38;5;241m*\u001b[39m\u001b[38;5;241m*\u001b[39mkwargs)\n\u001b[0;32m    151\u001b[0m \u001b[38;5;28;01mexcept\u001b[39;00m \u001b[38;5;167;01mException\u001b[39;00m \u001b[38;5;28;01mas\u001b[39;00m e:\n\u001b[0;32m    152\u001b[0m   filtered_tb \u001b[38;5;241m=\u001b[39m _process_traceback_frames(e\u001b[38;5;241m.\u001b[39m__traceback__)\n",
      "File \u001b[1;32m~\\anaconda3new\\Lib\\site-packages\\tensorflow\\python\\eager\\polymorphic_function\\polymorphic_function.py:833\u001b[0m, in \u001b[0;36mFunction.__call__\u001b[1;34m(self, *args, **kwds)\u001b[0m\n\u001b[0;32m    830\u001b[0m compiler \u001b[38;5;241m=\u001b[39m \u001b[38;5;124m\"\u001b[39m\u001b[38;5;124mxla\u001b[39m\u001b[38;5;124m\"\u001b[39m \u001b[38;5;28;01mif\u001b[39;00m \u001b[38;5;28mself\u001b[39m\u001b[38;5;241m.\u001b[39m_jit_compile \u001b[38;5;28;01melse\u001b[39;00m \u001b[38;5;124m\"\u001b[39m\u001b[38;5;124mnonXla\u001b[39m\u001b[38;5;124m\"\u001b[39m\n\u001b[0;32m    832\u001b[0m \u001b[38;5;28;01mwith\u001b[39;00m OptionalXlaContext(\u001b[38;5;28mself\u001b[39m\u001b[38;5;241m.\u001b[39m_jit_compile):\n\u001b[1;32m--> 833\u001b[0m   result \u001b[38;5;241m=\u001b[39m \u001b[38;5;28mself\u001b[39m\u001b[38;5;241m.\u001b[39m_call(\u001b[38;5;241m*\u001b[39margs, \u001b[38;5;241m*\u001b[39m\u001b[38;5;241m*\u001b[39mkwds)\n\u001b[0;32m    835\u001b[0m new_tracing_count \u001b[38;5;241m=\u001b[39m \u001b[38;5;28mself\u001b[39m\u001b[38;5;241m.\u001b[39mexperimental_get_tracing_count()\n\u001b[0;32m    836\u001b[0m without_tracing \u001b[38;5;241m=\u001b[39m (tracing_count \u001b[38;5;241m==\u001b[39m new_tracing_count)\n",
      "File \u001b[1;32m~\\anaconda3new\\Lib\\site-packages\\tensorflow\\python\\eager\\polymorphic_function\\polymorphic_function.py:878\u001b[0m, in \u001b[0;36mFunction._call\u001b[1;34m(self, *args, **kwds)\u001b[0m\n\u001b[0;32m    875\u001b[0m \u001b[38;5;28mself\u001b[39m\u001b[38;5;241m.\u001b[39m_lock\u001b[38;5;241m.\u001b[39mrelease()\n\u001b[0;32m    876\u001b[0m \u001b[38;5;66;03m# In this case we have not created variables on the first call. So we can\u001b[39;00m\n\u001b[0;32m    877\u001b[0m \u001b[38;5;66;03m# run the first trace but we should fail if variables are created.\u001b[39;00m\n\u001b[1;32m--> 878\u001b[0m results \u001b[38;5;241m=\u001b[39m tracing_compilation\u001b[38;5;241m.\u001b[39mcall_function(\n\u001b[0;32m    879\u001b[0m     args, kwds, \u001b[38;5;28mself\u001b[39m\u001b[38;5;241m.\u001b[39m_variable_creation_config\n\u001b[0;32m    880\u001b[0m )\n\u001b[0;32m    881\u001b[0m \u001b[38;5;28;01mif\u001b[39;00m \u001b[38;5;28mself\u001b[39m\u001b[38;5;241m.\u001b[39m_created_variables:\n\u001b[0;32m    882\u001b[0m   \u001b[38;5;28;01mraise\u001b[39;00m \u001b[38;5;167;01mValueError\u001b[39;00m(\u001b[38;5;124m\"\u001b[39m\u001b[38;5;124mCreating variables on a non-first call to a function\u001b[39m\u001b[38;5;124m\"\u001b[39m\n\u001b[0;32m    883\u001b[0m                    \u001b[38;5;124m\"\u001b[39m\u001b[38;5;124m decorated with tf.function.\u001b[39m\u001b[38;5;124m\"\u001b[39m)\n",
      "File \u001b[1;32m~\\anaconda3new\\Lib\\site-packages\\tensorflow\\python\\eager\\polymorphic_function\\tracing_compilation.py:139\u001b[0m, in \u001b[0;36mcall_function\u001b[1;34m(args, kwargs, tracing_options)\u001b[0m\n\u001b[0;32m    137\u001b[0m bound_args \u001b[38;5;241m=\u001b[39m function\u001b[38;5;241m.\u001b[39mfunction_type\u001b[38;5;241m.\u001b[39mbind(\u001b[38;5;241m*\u001b[39margs, \u001b[38;5;241m*\u001b[39m\u001b[38;5;241m*\u001b[39mkwargs)\n\u001b[0;32m    138\u001b[0m flat_inputs \u001b[38;5;241m=\u001b[39m function\u001b[38;5;241m.\u001b[39mfunction_type\u001b[38;5;241m.\u001b[39munpack_inputs(bound_args)\n\u001b[1;32m--> 139\u001b[0m \u001b[38;5;28;01mreturn\u001b[39;00m function\u001b[38;5;241m.\u001b[39m_call_flat(  \u001b[38;5;66;03m# pylint: disable=protected-access\u001b[39;00m\n\u001b[0;32m    140\u001b[0m     flat_inputs, captured_inputs\u001b[38;5;241m=\u001b[39mfunction\u001b[38;5;241m.\u001b[39mcaptured_inputs\n\u001b[0;32m    141\u001b[0m )\n",
      "File \u001b[1;32m~\\anaconda3new\\Lib\\site-packages\\tensorflow\\python\\eager\\polymorphic_function\\concrete_function.py:1322\u001b[0m, in \u001b[0;36mConcreteFunction._call_flat\u001b[1;34m(self, tensor_inputs, captured_inputs)\u001b[0m\n\u001b[0;32m   1318\u001b[0m possible_gradient_type \u001b[38;5;241m=\u001b[39m gradients_util\u001b[38;5;241m.\u001b[39mPossibleTapeGradientTypes(args)\n\u001b[0;32m   1319\u001b[0m \u001b[38;5;28;01mif\u001b[39;00m (possible_gradient_type \u001b[38;5;241m==\u001b[39m gradients_util\u001b[38;5;241m.\u001b[39mPOSSIBLE_GRADIENT_TYPES_NONE\n\u001b[0;32m   1320\u001b[0m     \u001b[38;5;129;01mand\u001b[39;00m executing_eagerly):\n\u001b[0;32m   1321\u001b[0m   \u001b[38;5;66;03m# No tape is watching; skip to running the function.\u001b[39;00m\n\u001b[1;32m-> 1322\u001b[0m   \u001b[38;5;28;01mreturn\u001b[39;00m \u001b[38;5;28mself\u001b[39m\u001b[38;5;241m.\u001b[39m_inference_function\u001b[38;5;241m.\u001b[39mcall_preflattened(args)\n\u001b[0;32m   1323\u001b[0m forward_backward \u001b[38;5;241m=\u001b[39m \u001b[38;5;28mself\u001b[39m\u001b[38;5;241m.\u001b[39m_select_forward_and_backward_functions(\n\u001b[0;32m   1324\u001b[0m     args,\n\u001b[0;32m   1325\u001b[0m     possible_gradient_type,\n\u001b[0;32m   1326\u001b[0m     executing_eagerly)\n\u001b[0;32m   1327\u001b[0m forward_function, args_with_tangents \u001b[38;5;241m=\u001b[39m forward_backward\u001b[38;5;241m.\u001b[39mforward()\n",
      "File \u001b[1;32m~\\anaconda3new\\Lib\\site-packages\\tensorflow\\python\\eager\\polymorphic_function\\atomic_function.py:216\u001b[0m, in \u001b[0;36mAtomicFunction.call_preflattened\u001b[1;34m(self, args)\u001b[0m\n\u001b[0;32m    214\u001b[0m \u001b[38;5;28;01mdef\u001b[39;00m \u001b[38;5;21mcall_preflattened\u001b[39m(\u001b[38;5;28mself\u001b[39m, args: Sequence[core\u001b[38;5;241m.\u001b[39mTensor]) \u001b[38;5;241m-\u001b[39m\u001b[38;5;241m>\u001b[39m Any:\n\u001b[0;32m    215\u001b[0m \u001b[38;5;250m  \u001b[39m\u001b[38;5;124;03m\"\"\"Calls with flattened tensor inputs and returns the structured output.\"\"\"\u001b[39;00m\n\u001b[1;32m--> 216\u001b[0m   flat_outputs \u001b[38;5;241m=\u001b[39m \u001b[38;5;28mself\u001b[39m\u001b[38;5;241m.\u001b[39mcall_flat(\u001b[38;5;241m*\u001b[39margs)\n\u001b[0;32m    217\u001b[0m   \u001b[38;5;28;01mreturn\u001b[39;00m \u001b[38;5;28mself\u001b[39m\u001b[38;5;241m.\u001b[39mfunction_type\u001b[38;5;241m.\u001b[39mpack_output(flat_outputs)\n",
      "File \u001b[1;32m~\\anaconda3new\\Lib\\site-packages\\tensorflow\\python\\eager\\polymorphic_function\\atomic_function.py:251\u001b[0m, in \u001b[0;36mAtomicFunction.call_flat\u001b[1;34m(self, *args)\u001b[0m\n\u001b[0;32m    249\u001b[0m \u001b[38;5;28;01mwith\u001b[39;00m record\u001b[38;5;241m.\u001b[39mstop_recording():\n\u001b[0;32m    250\u001b[0m   \u001b[38;5;28;01mif\u001b[39;00m \u001b[38;5;28mself\u001b[39m\u001b[38;5;241m.\u001b[39m_bound_context\u001b[38;5;241m.\u001b[39mexecuting_eagerly():\n\u001b[1;32m--> 251\u001b[0m     outputs \u001b[38;5;241m=\u001b[39m \u001b[38;5;28mself\u001b[39m\u001b[38;5;241m.\u001b[39m_bound_context\u001b[38;5;241m.\u001b[39mcall_function(\n\u001b[0;32m    252\u001b[0m         \u001b[38;5;28mself\u001b[39m\u001b[38;5;241m.\u001b[39mname,\n\u001b[0;32m    253\u001b[0m         \u001b[38;5;28mlist\u001b[39m(args),\n\u001b[0;32m    254\u001b[0m         \u001b[38;5;28mlen\u001b[39m(\u001b[38;5;28mself\u001b[39m\u001b[38;5;241m.\u001b[39mfunction_type\u001b[38;5;241m.\u001b[39mflat_outputs),\n\u001b[0;32m    255\u001b[0m     )\n\u001b[0;32m    256\u001b[0m   \u001b[38;5;28;01melse\u001b[39;00m:\n\u001b[0;32m    257\u001b[0m     outputs \u001b[38;5;241m=\u001b[39m make_call_op_in_graph(\n\u001b[0;32m    258\u001b[0m         \u001b[38;5;28mself\u001b[39m,\n\u001b[0;32m    259\u001b[0m         \u001b[38;5;28mlist\u001b[39m(args),\n\u001b[0;32m    260\u001b[0m         \u001b[38;5;28mself\u001b[39m\u001b[38;5;241m.\u001b[39m_bound_context\u001b[38;5;241m.\u001b[39mfunction_call_options\u001b[38;5;241m.\u001b[39mas_attrs(),\n\u001b[0;32m    261\u001b[0m     )\n",
      "File \u001b[1;32m~\\anaconda3new\\Lib\\site-packages\\tensorflow\\python\\eager\\context.py:1683\u001b[0m, in \u001b[0;36mContext.call_function\u001b[1;34m(self, name, tensor_inputs, num_outputs)\u001b[0m\n\u001b[0;32m   1681\u001b[0m cancellation_context \u001b[38;5;241m=\u001b[39m cancellation\u001b[38;5;241m.\u001b[39mcontext()\n\u001b[0;32m   1682\u001b[0m \u001b[38;5;28;01mif\u001b[39;00m cancellation_context \u001b[38;5;129;01mis\u001b[39;00m \u001b[38;5;28;01mNone\u001b[39;00m:\n\u001b[1;32m-> 1683\u001b[0m   outputs \u001b[38;5;241m=\u001b[39m execute\u001b[38;5;241m.\u001b[39mexecute(\n\u001b[0;32m   1684\u001b[0m       name\u001b[38;5;241m.\u001b[39mdecode(\u001b[38;5;124m\"\u001b[39m\u001b[38;5;124mutf-8\u001b[39m\u001b[38;5;124m\"\u001b[39m),\n\u001b[0;32m   1685\u001b[0m       num_outputs\u001b[38;5;241m=\u001b[39mnum_outputs,\n\u001b[0;32m   1686\u001b[0m       inputs\u001b[38;5;241m=\u001b[39mtensor_inputs,\n\u001b[0;32m   1687\u001b[0m       attrs\u001b[38;5;241m=\u001b[39mattrs,\n\u001b[0;32m   1688\u001b[0m       ctx\u001b[38;5;241m=\u001b[39m\u001b[38;5;28mself\u001b[39m,\n\u001b[0;32m   1689\u001b[0m   )\n\u001b[0;32m   1690\u001b[0m \u001b[38;5;28;01melse\u001b[39;00m:\n\u001b[0;32m   1691\u001b[0m   outputs \u001b[38;5;241m=\u001b[39m execute\u001b[38;5;241m.\u001b[39mexecute_with_cancellation(\n\u001b[0;32m   1692\u001b[0m       name\u001b[38;5;241m.\u001b[39mdecode(\u001b[38;5;124m\"\u001b[39m\u001b[38;5;124mutf-8\u001b[39m\u001b[38;5;124m\"\u001b[39m),\n\u001b[0;32m   1693\u001b[0m       num_outputs\u001b[38;5;241m=\u001b[39mnum_outputs,\n\u001b[1;32m   (...)\u001b[0m\n\u001b[0;32m   1697\u001b[0m       cancellation_manager\u001b[38;5;241m=\u001b[39mcancellation_context,\n\u001b[0;32m   1698\u001b[0m   )\n",
      "File \u001b[1;32m~\\anaconda3new\\Lib\\site-packages\\tensorflow\\python\\eager\\execute.py:53\u001b[0m, in \u001b[0;36mquick_execute\u001b[1;34m(op_name, num_outputs, inputs, attrs, ctx, name)\u001b[0m\n\u001b[0;32m     51\u001b[0m \u001b[38;5;28;01mtry\u001b[39;00m:\n\u001b[0;32m     52\u001b[0m   ctx\u001b[38;5;241m.\u001b[39mensure_initialized()\n\u001b[1;32m---> 53\u001b[0m   tensors \u001b[38;5;241m=\u001b[39m pywrap_tfe\u001b[38;5;241m.\u001b[39mTFE_Py_Execute(ctx\u001b[38;5;241m.\u001b[39m_handle, device_name, op_name,\n\u001b[0;32m     54\u001b[0m                                       inputs, attrs, num_outputs)\n\u001b[0;32m     55\u001b[0m \u001b[38;5;28;01mexcept\u001b[39;00m core\u001b[38;5;241m.\u001b[39m_NotOkStatusException \u001b[38;5;28;01mas\u001b[39;00m e:\n\u001b[0;32m     56\u001b[0m   \u001b[38;5;28;01mif\u001b[39;00m name \u001b[38;5;129;01mis\u001b[39;00m \u001b[38;5;129;01mnot\u001b[39;00m \u001b[38;5;28;01mNone\u001b[39;00m:\n",
      "\u001b[1;31mKeyboardInterrupt\u001b[0m: "
     ]
    }
   ],
   "source": [
    "from mealpy.swarm_based.GWO import OriginalGWO\n",
    "from mealpy.utils.problem import Problem\n",
    "from mealpy.utils.space import FloatVar\n",
    "import time\n",
    "\n",
    "# Ensure train_and_evaluate() takes all required parameters\n",
    "def gwo_objective(solution):\n",
    "    lr, dropout = solution  # Extract the learning rate and dropout\n",
    "    return train_and_evaluate(solution, X_train, y_train, X_test, y_test)  # Pass the full dataset\n",
    "\n",
    "# Define the problem correctly using FloatVar\n",
    "problem = Problem(\n",
    "    obj_func=gwo_objective,   # Objective function reference\n",
    "    bounds=[FloatVar(0.0001, 0.1), FloatVar(0.01, 0.5)],  # Define bounds with FloatVar\n",
    "    minmax=\"min\",             # Minimize loss\n",
    "    log_to=None               # Avoid extra logging\n",
    ")\n",
    "\n",
    "# Initialize GWO optimizer\n",
    "start_time = time.time()\n",
    "gwo = OriginalGWO()\n",
    "\n",
    "# Solve the problem\n",
    "best_solution_gwo = gwo.solve(problem, mode=\"single\", n_workers=1)\n",
    "\n",
    "gwo_time = time.time() - start_time\n",
    "\n",
    "# Extract best learning rate and dropout\n",
    "best_lr_gwo, best_dropout_gwo = best_solution_gwo.solution\n",
    "\n",
    "print(f\"✅ Best GWO parameters: Learning Rate = {best_lr_gwo}, Dropout = {best_dropout_gwo}\")\n",
    "\n",
    "\n",
    "\n",
    "\n",
    "\n",
    "\n",
    "\n",
    "# # **Train Model 3: Using GWO**\n",
    "# start_time = time.time()\n",
    "# gwo = OriginalGWO(obj_func=train_and_evaluate, lb=lb, ub=ub, problem_size=2, batch_size=5, epoch=5)\n",
    "# best_solution_gwo, best_fitness_gwo = gwo.solve()\n",
    "\n",
    "# gwo_time = time.time() - start_time\n",
    "# best_lr_gwo, best_dropout_gwo = best_solution_gwo\n",
    "\n"
   ]
  },
  {
   "cell_type": "code",
   "execution_count": null,
   "id": "0bf22dd8",
   "metadata": {},
   "outputs": [],
   "source": [
    "\n",
    "history_gwo = build_and_train_model(best_lr_gwo, best_dropout_gwo, \"gwo\")\n"
   ]
  },
  {
   "cell_type": "code",
   "execution_count": null,
   "id": "6cd339ad",
   "metadata": {},
   "outputs": [],
   "source": [
    "# Train Models\n",
    "# history_pso = build_and_train_model(best_lr_pso, best_dropout_pso, \"pso\")\n",
    "# history_ga = build_and_train_model(best_lr_ga, best_dropout_ga, \"ga\")\n",
    "# history_gwo = build_and_train_model(best_lr_gwo, best_dropout_gwo, \"gwo\")\n",
    "\n",
    "\n"
   ]
  },
  {
   "cell_type": "code",
   "execution_count": null,
   "id": "8a23f57e",
   "metadata": {},
   "outputs": [],
   "source": [
    "# Compare Results\n",
    "import matplotlib.pyplot as plt\n",
    "\n",
    "def plot_results(histories, names):\n",
    "    plt.figure(figsize=(10, 5))\n",
    "    \n",
    "    # Accuracy\n",
    "    plt.subplot(1, 2, 1)\n",
    "    for history, name in zip(histories, names):\n",
    "        plt.plot(history.history['val_accuracy'], label=f\"{name}\")\n",
    "    plt.title('Validation Accuracy Comparison')\n",
    "    plt.xlabel('Epochs')\n",
    "    plt.ylabel('Accuracy')\n",
    "    plt.legend()\n",
    "\n",
    "    # Loss\n",
    "    plt.subplot(1, 2, 2)\n",
    "    for history, name in zip(histories, names):\n",
    "        plt.plot(history.history['val_loss'], label=f\"{name}\")\n",
    "    plt.title('Validation Loss Comparison')\n",
    "    plt.xlabel('Epochs')\n",
    "    plt.ylabel('Loss')\n",
    "    plt.legend()\n",
    "\n",
    "    plt.show()\n",
    "\n"
   ]
  },
  {
   "cell_type": "code",
   "execution_count": null,
   "id": "d12fa137",
   "metadata": {},
   "outputs": [],
   "source": [
    "plot_results([history_pso, history_ga, history_gwo], [\"PSO\", \"GA\", \"GWO\"])\n",
    "\n",
    "# Print Training Times\n",
    "print(f\"PSO Training Time: {pso_time:.2f} sec\")\n",
    "print(f\"GA Training Time: {ga_time:.2f} sec\")\n",
    "print(f\"GWO Training Time: {gwo_time:.2f} sec\")"
   ]
  },
  {
   "cell_type": "code",
   "execution_count": null,
   "id": "563dc643",
   "metadata": {},
   "outputs": [
    {
     "name": "stdout",
     "output_type": "stream",
     "text": [
      "Initialize the Artificial Bee Colony (ABC) optimizer\n",
      "Solve the problem\n"
     ]
    }
   ],
   "source": [
    "from mealpy.utils.problem import Problem\n",
    "from mealpy.swarm_based.ABC import OriginalABC\n",
    "from mealpy.utils.space import FloatVar\n",
    "\n",
    "# Define the objective function\n",
    "def abc_objective(solution):\n",
    "    lr, dropout = solution  # Extract hyperparameters\n",
    "    return train_and_evaluate(solution, X_train, y_train, X_test, y_test)\n",
    "\n",
    "# Define the problem using Mealpy's Problem class\n",
    "problem = Problem(\n",
    "    obj_func=abc_objective,\n",
    "    bounds=[FloatVar(0.0001, 0.1), FloatVar(0.01, 0.5)],  # Correct bounds using FloatVar\n",
    "    minmax=\"min\",  # Minimize the loss\n",
    "    log_to=None\n",
    ")\n",
    "print(\"Initialize the Artificial Bee Colony (ABC) optimizer\")\n",
    "# Initialize the Artificial Bee Colony (ABC) optimizer\n",
    "abc = OriginalABC(epoch=30, pop_size=30, limit=5)\n",
    "print(\"Solve the problem\")\n",
    "# Solve the problem\n",
    "best_solution_abc = abc.solve(problem, mode=\"process\", n_workers=8)\n",
    "\n",
    "\n",
    "# Extract best parameters\n",
    "best_lr_abc, best_dropout_abc = best_solution_abc.solution\n",
    "print(f\"Best Learning Rate: {best_lr_abc}, Best Dropout: {best_dropout_abc}\")\n"
   ]
  },
  {
   "cell_type": "code",
   "execution_count": null,
   "id": "70d1709d",
   "metadata": {},
   "outputs": [],
   "source": []
  },
  {
   "cell_type": "code",
   "execution_count": null,
   "id": "e231e20b",
   "metadata": {},
   "outputs": [],
   "source": []
  },
  {
   "cell_type": "code",
   "execution_count": null,
   "id": "6f65a231",
   "metadata": {},
   "outputs": [],
   "source": []
  },
  {
   "cell_type": "code",
   "execution_count": null,
   "id": "83b890e6",
   "metadata": {},
   "outputs": [],
   "source": []
  },
  {
   "cell_type": "code",
   "execution_count": null,
   "id": "96609683",
   "metadata": {},
   "outputs": [],
   "source": []
  },
  {
   "cell_type": "code",
   "execution_count": null,
   "id": "a334ebd8",
   "metadata": {},
   "outputs": [],
   "source": [
    "history_abc = build_and_train_model(best_lr_abc, best_dropout_abc, \"abc\")"
   ]
  },
  {
   "cell_type": "code",
   "execution_count": null,
   "id": "bb74ec10",
   "metadata": {},
   "outputs": [],
   "source": [
    "plot_results([history_pso,history_abc, history_ga, history_gwo], [\"PSO\",\"ABC\", \"GA\", \"GWO\"])\n",
    "print(f\"PSO Training Time: {pso_time:.2f} sec\")\n",
    "# Print Training Times\n",
    "print(f\"ABC Training Time: {abc_time:.2f} sec\")\n",
    "print(f\"GA Training Time: {ga_time:.2f} sec\")\n",
    "print(f\"GWO Training Time: {gwo_time:.2f} sec\")"
   ]
  },
  {
   "cell_type": "code",
   "execution_count": null,
   "id": "323f6a27",
   "metadata": {},
   "outputs": [],
   "source": []
  },
  {
   "cell_type": "code",
   "execution_count": null,
   "id": "3c9fc8f6",
   "metadata": {},
   "outputs": [],
   "source": [
    "import time\n",
    "import numpy as np\n",
    "import tensorflow as tf\n",
    "from tensorflow.keras.models import Sequential\n",
    "from tensorflow.keras.layers import LSTM, Bidirectional, Dense, Dropout, BatchNormalization\n",
    "from tensorflow.keras.optimizers import Adam\n",
    "from sklearn.model_selection import train_test_split\n",
    "from sklearn.preprocessing import LabelEncoder\n",
    "from tensorflow.keras.utils import to_categorical\n",
    "from geneticalgorithm import geneticalgorithm as ga\n",
    "from mealpy.swarm_based.GWO import OriginalGWO\n",
    "from mealpy.swarm_based.ABC import OriginalABC  # Replacing PSO with ABC\n",
    "\n",
    "# Encode labels\n",
    "label_encoder = LabelEncoder()\n",
    "y = label_encoder.fit_transform(labels)  \n",
    "y = to_categorical(y)\n",
    "\n",
    "# Train-Test Split\n",
    "X_train, X_test, y_train, y_test = train_test_split(X, y, test_size=0.2, random_state=42)\n",
    "\n",
    "# Define training function (shared across all optimizers)\n",
    "def train_and_evaluate(params):\n",
    "    learning_rate, dropout_rate = params\n",
    "\n",
    "    model = Sequential([\n",
    "        Bidirectional(LSTM(128, return_sequences=True, input_shape=(X_train.shape[1], X_train.shape[2]))),\n",
    "        BatchNormalization(),\n",
    "        Dropout(dropout_rate),\n",
    "\n",
    "        Bidirectional(LSTM(64, return_sequences=False)),\n",
    "        BatchNormalization(),\n",
    "        Dropout(dropout_rate),\n",
    "\n",
    "        Dense(32, activation='relu'),\n",
    "        Dropout(dropout_rate),\n",
    "\n",
    "        Dense(y_train.shape[1], activation='softmax')\n",
    "    ])\n",
    "\n",
    "    optimizer = Adam(learning_rate=learning_rate)\n",
    "    model.compile(loss='categorical_crossentropy', optimizer=optimizer, metrics=['accuracy'])\n",
    "\n",
    "    history = model.fit(X_train, y_train, validation_data=(X_test, y_test), epochs=10, batch_size=32, verbose=0)\n",
    "\n",
    "    return -max(history.history['val_accuracy'])  # We minimize negative accuracy\n",
    "\n",
    "# **Train Model 1: Using ABC (Artificial Bee Colony)**\n",
    "start_time = time.time()\n",
    "lb = [0.0001, 0.1]\n",
    "ub = [0.01, 0.5]\n",
    "abc = OriginalABC(obj_func=train_and_evaluate, lb=lb, ub=ub, problem_size=2, batch_size=5, epoch=5)\n",
    "best_solution_abc, best_fitness_abc = abc.train()\n",
    "abc_time = time.time() - start_time\n",
    "best_lr_abc, best_dropout_abc = best_solution_abc\n",
    "\n",
    "# **Train Model 2: Using GA**\n",
    "start_time = time.time()\n",
    "var_bound = np.array([[0.0001, 0.01], [0.1, 0.5]])\n",
    "algorithm_param = {'max_num_iteration': 5, 'population_size': 10, 'mutation_probability': 0.1, 'elit_ratio': 0.01, 'crossover_probability': 0.5, 'parents_portion': 0.3, 'crossover_type': 'uniform', 'max_iteration_without_improv': 2}\n",
    "model_ga = ga(function=train_and_evaluate, dimension=2, variable_type='real', variable_boundaries=var_bound, algorithm_parameters=algorithm_param)\n",
    "model_ga.run()\n",
    "ga_time = time.time() - start_time\n",
    "best_lr_ga, best_dropout_ga = model_ga.output_dict['variable']\n",
    "\n",
    "# **Train Model 3: Using GWO**\n",
    "start_time = time.time()\n",
    "gwo = OriginalGWO(obj_func=train_and_evaluate, lb=lb, ub=ub, problem_size=2, batch_size=5, epoch=5)\n",
    "best_solution_gwo, best_fitness_gwo = gwo.train()\n",
    "gwo_time = time.time() - start_time\n",
    "best_lr_gwo, best_dropout_gwo = best_solution_gwo\n",
    "\n",
    "# **Train Final Models Using Optimized Parameters**\n",
    "def build_and_train_model(learning_rate, dropout_rate, optimizer_name):\n",
    "    model = Sequential([\n",
    "        Bidirectional(LSTM(128, return_sequences=True, input_shape=(X_train.shape[1], X_train.shape[2]))),\n",
    "        BatchNormalization(),\n",
    "        Dropout(dropout_rate),\n",
    "\n",
    "        Bidirectional(LSTM(64, return_sequences=False)),\n",
    "        BatchNormalization(),\n",
    "        Dropout(dropout_rate),\n",
    "\n",
    "        Dense(32, activation='relu'),\n",
    "        Dropout(dropout_rate),\n",
    "\n",
    "        Dense(y_train.shape[1], activation='softmax')\n",
    "    ])\n",
    "\n",
    "    optimizer = Adam(learning_rate=learning_rate)\n",
    "    model.compile(loss='categorical_crossentropy', optimizer=optimizer, metrics=['accuracy'])\n",
    "\n",
    "    history = model.fit(X_train, y_train, validation_data=(X_test, y_test), epochs=30, batch_size=32)\n",
    "    model.save(f\"keyword_spotting_model_{optimizer_name}_1.h5\")\n",
    "    return history\n",
    "\n",
    "# Train Models\n",
    "history_abc = build_and_train_model(best_lr_abc, best_dropout_abc, \"abc\")\n",
    "history_ga = build_and_train_model(best_lr_ga, best_dropout_ga, \"ga\")\n",
    "history_gwo = build_and_train_model(best_lr_gwo, best_dropout_gwo, \"gwo\")\n",
    "\n",
    "# Compare Results\n",
    "import matplotlib.pyplot as plt\n",
    "\n",
    "def plot_results(histories, names):\n",
    "    plt.figure(figsize=(10, 5))\n",
    "    \n",
    "    plt.subplot(1, 2, 1)\n",
    "    for history, name in zip(histories, names):\n",
    "        plt.plot(history.history['val_accuracy'], label=f\"{name}\")\n",
    "    plt.title('Validation Accuracy Comparison')\n",
    "    plt.xlabel('Epochs')\n",
    "    plt.ylabel('Accuracy')\n",
    "    plt.legend()\n",
    "\n",
    "    plt.subplot(1, 2, 2)\n",
    "    for history, name in zip(histories, names):\n",
    "        plt.plot(history.history['val_loss'], label=f\"{name}\")\n",
    "    plt.title('Validation Loss Comparison')\n",
    "    plt.xlabel('Epochs')\n",
    "    plt.ylabel('Loss')\n",
    "    plt.legend()\n",
    "    \n",
    "    plt.show()\n",
    "\n",
    "plot_results([history_abc, history_ga, history_gwo], [\"ABC\", \"GA\", \"GWO\"])\n",
    "\n",
    "# Print Training Times\n",
    "print(f\"ABC Training Time: {abc_time:.2f} sec\")\n",
    "print(f\"GA Training Time: {ga_time:.2f} sec\")\n",
    "print(f\"GWO Training Time: {gwo_time:.2f} sec\")\n",
    "\n"
   ]
  },
  {
   "cell_type": "code",
   "execution_count": null,
   "id": "0bcfbfe4",
   "metadata": {},
   "outputs": [],
   "source": []
  },
  {
   "cell_type": "code",
   "execution_count": 78,
   "id": "e95b32b0",
   "metadata": {},
   "outputs": [],
   "source": [
    "X_train_sample, y_train_sample = X_train[:len(X_train)//2], y_train[:len(y_train)//2]\n"
   ]
  },
  {
   "cell_type": "code",
   "execution_count": 79,
   "id": "33803eb6",
   "metadata": {},
   "outputs": [
    {
     "name": "stdout",
     "output_type": "stream",
     "text": [
      "Initialize the Artificial Bee Colony (ABC) optimizer\n",
      "Solve the problem\n"
     ]
    },
    {
     "ename": "ValueError",
     "evalue": "'mode' is a string and value should be one of this: ['process', 'thread', 'swarm', 'single'].",
     "output_type": "error",
     "traceback": [
      "\u001b[1;31m---------------------------------------------------------------------------\u001b[0m",
      "\u001b[1;31mValueError\u001b[0m                                Traceback (most recent call last)",
      "Cell \u001b[1;32mIn[79], line 23\u001b[0m\n\u001b[0;32m     20\u001b[0m abc \u001b[38;5;241m=\u001b[39m OriginalABC(epoch\u001b[38;5;241m=\u001b[39m\u001b[38;5;241m50\u001b[39m, pop_size\u001b[38;5;241m=\u001b[39m\u001b[38;5;241m30\u001b[39m, limit\u001b[38;5;241m=\u001b[39m\u001b[38;5;241m5\u001b[39m)\n\u001b[0;32m     22\u001b[0m \u001b[38;5;28mprint\u001b[39m(\u001b[38;5;124m\"\u001b[39m\u001b[38;5;124mSolve the problem\u001b[39m\u001b[38;5;124m\"\u001b[39m)\n\u001b[1;32m---> 23\u001b[0m best_solution_abc \u001b[38;5;241m=\u001b[39m abc\u001b[38;5;241m.\u001b[39msolve(problem, mode\u001b[38;5;241m=\u001b[39m\u001b[38;5;124m\"\u001b[39m\u001b[38;5;124mmulti\u001b[39m\u001b[38;5;124m\"\u001b[39m, n_workers\u001b[38;5;241m=\u001b[39m\u001b[38;5;241m10\u001b[39m)\n\u001b[0;32m     25\u001b[0m \u001b[38;5;66;03m# Extract best parameters\u001b[39;00m\n\u001b[0;32m     26\u001b[0m best_lr_abc, best_dropout_abc \u001b[38;5;241m=\u001b[39m best_solution_abc\u001b[38;5;241m.\u001b[39msolution\n",
      "File \u001b[1;32m~\\anaconda3new\\Lib\\site-packages\\mealpy\\optimizer.py:224\u001b[0m, in \u001b[0;36mOptimizer.solve\u001b[1;34m(self, problem, mode, n_workers, termination, starting_solutions, seed)\u001b[0m\n\u001b[0;32m    205\u001b[0m \u001b[38;5;250m\u001b[39m\u001b[38;5;124;03m\"\"\"\u001b[39;00m\n\u001b[0;32m    206\u001b[0m \u001b[38;5;124;03mArgs:\u001b[39;00m\n\u001b[0;32m    207\u001b[0m \u001b[38;5;124;03m    problem: an instance of Problem class or a dictionary\u001b[39;00m\n\u001b[1;32m   (...)\u001b[0m\n\u001b[0;32m    221\u001b[0m \u001b[38;5;124;03m    g_best: g_best, the best found agent, that hold the best solution and the best target. Access by: .g_best.solution, .g_best.target\u001b[39;00m\n\u001b[0;32m    222\u001b[0m \u001b[38;5;124;03m\"\"\"\u001b[39;00m\n\u001b[0;32m    223\u001b[0m \u001b[38;5;28mself\u001b[39m\u001b[38;5;241m.\u001b[39mcheck_problem(problem, seed)\n\u001b[1;32m--> 224\u001b[0m \u001b[38;5;28mself\u001b[39m\u001b[38;5;241m.\u001b[39mcheck_mode_and_workers(mode, n_workers)\n\u001b[0;32m    225\u001b[0m \u001b[38;5;28mself\u001b[39m\u001b[38;5;241m.\u001b[39mcheck_termination(\u001b[38;5;124m\"\u001b[39m\u001b[38;5;124mstart\u001b[39m\u001b[38;5;124m\"\u001b[39m, termination, \u001b[38;5;28;01mNone\u001b[39;00m)\n\u001b[0;32m    226\u001b[0m \u001b[38;5;28mself\u001b[39m\u001b[38;5;241m.\u001b[39minitialize_variables()\n",
      "File \u001b[1;32m~\\anaconda3new\\Lib\\site-packages\\mealpy\\optimizer.py:167\u001b[0m, in \u001b[0;36mOptimizer.check_mode_and_workers\u001b[1;34m(self, mode, n_workers)\u001b[0m\n\u001b[0;32m    166\u001b[0m \u001b[38;5;28;01mdef\u001b[39;00m \u001b[38;5;21mcheck_mode_and_workers\u001b[39m(\u001b[38;5;28mself\u001b[39m, mode, n_workers):\n\u001b[1;32m--> 167\u001b[0m     \u001b[38;5;28mself\u001b[39m\u001b[38;5;241m.\u001b[39mmode \u001b[38;5;241m=\u001b[39m \u001b[38;5;28mself\u001b[39m\u001b[38;5;241m.\u001b[39mvalidator\u001b[38;5;241m.\u001b[39mcheck_str(\u001b[38;5;124m\"\u001b[39m\u001b[38;5;124mmode\u001b[39m\u001b[38;5;124m\"\u001b[39m, mode, \u001b[38;5;28mself\u001b[39m\u001b[38;5;241m.\u001b[39mSUPPORTED_MODES)\n\u001b[0;32m    168\u001b[0m     \u001b[38;5;28;01mif\u001b[39;00m \u001b[38;5;28mself\u001b[39m\u001b[38;5;241m.\u001b[39mmode \u001b[38;5;129;01min\u001b[39;00m \u001b[38;5;28mself\u001b[39m\u001b[38;5;241m.\u001b[39mPARALLEL_MODES:\n\u001b[0;32m    169\u001b[0m         \u001b[38;5;28;01mif\u001b[39;00m \u001b[38;5;129;01mnot\u001b[39;00m \u001b[38;5;28mself\u001b[39m\u001b[38;5;241m.\u001b[39mis_parallelizable:\n",
      "File \u001b[1;32m~\\anaconda3new\\Lib\\site-packages\\mealpy\\utils\\validator.py:70\u001b[0m, in \u001b[0;36mValidator.check_str\u001b[1;34m(self, name, value, bound)\u001b[0m\n\u001b[0;32m     68\u001b[0m         \u001b[38;5;28;01mreturn\u001b[39;00m value\n\u001b[0;32m     69\u001b[0m bound \u001b[38;5;241m=\u001b[39m \u001b[38;5;124m\"\u001b[39m\u001b[38;5;124m\"\u001b[39m \u001b[38;5;28;01mif\u001b[39;00m bound \u001b[38;5;129;01mis\u001b[39;00m \u001b[38;5;28;01mNone\u001b[39;00m \u001b[38;5;28;01melse\u001b[39;00m \u001b[38;5;124mf\u001b[39m\u001b[38;5;124m\"\u001b[39m\u001b[38;5;124mand value should be one of this: \u001b[39m\u001b[38;5;132;01m{\u001b[39;00mbound\u001b[38;5;132;01m}\u001b[39;00m\u001b[38;5;124m\"\u001b[39m\n\u001b[1;32m---> 70\u001b[0m \u001b[38;5;28;01mraise\u001b[39;00m \u001b[38;5;167;01mValueError\u001b[39;00m(\u001b[38;5;124mf\u001b[39m\u001b[38;5;124m\"\u001b[39m\u001b[38;5;124m'\u001b[39m\u001b[38;5;132;01m{\u001b[39;00mname\u001b[38;5;132;01m}\u001b[39;00m\u001b[38;5;124m'\u001b[39m\u001b[38;5;124m is a string \u001b[39m\u001b[38;5;132;01m{\u001b[39;00mbound\u001b[38;5;132;01m}\u001b[39;00m\u001b[38;5;124m.\u001b[39m\u001b[38;5;124m\"\u001b[39m)\n",
      "\u001b[1;31mValueError\u001b[0m: 'mode' is a string and value should be one of this: ['process', 'thread', 'swarm', 'single']."
     ]
    }
   ],
   "source": [
    "from mealpy.utils.problem import Problem\n",
    "from mealpy.swarm_based.ABC import OriginalABC\n",
    "from mealpy.utils.space import FloatVar\n",
    "from tensorflow.keras.callbacks import EarlyStopping\n",
    "\n",
    "# Define the objective function\n",
    "def abc_objective(solution):\n",
    "    lr, dropout = solution  # Extract hyperparameters\n",
    "    return train_and_evaluate(solution, X_train_sample, y_train_sample, X_test, y_test)\n",
    "\n",
    "# Define the problem\n",
    "problem = Problem(\n",
    "    obj_func=abc_objective,\n",
    "    bounds=[FloatVar(0.0005, 0.01), FloatVar(0.1, 0.4)],  # Narrowed search space\n",
    "    minmax=\"min\",\n",
    "    log_to=None\n",
    ")\n",
    "\n",
    "print(\"Initialize the Artificial Bee Colony (ABC) optimizer\")\n",
    "abc = OriginalABC(epoch=50, pop_size=30, limit=5)\n",
    "\n",
    "print(\"Solve the problem\")\n",
    "best_solution_abc = abc.solve(problem, mode=\"multi\", n_workers=10)\n",
    "\n",
    "# Extract best parameters\n",
    "best_lr_abc, best_dropout_abc = best_solution_abc.solution\n",
    "print(f\"Best Learning Rate: {best_lr_abc}, Best Dropout: {best_dropout_abc}\")\n"
   ]
  },
  {
   "cell_type": "code",
   "execution_count": null,
   "id": "6c99c157",
   "metadata": {},
   "outputs": [],
   "source": []
  }
 ],
 "metadata": {
  "kernelspec": {
   "display_name": "Python 3 (ipykernel)",
   "language": "python",
   "name": "python3"
  },
  "language_info": {
   "codemirror_mode": {
    "name": "ipython",
    "version": 3
   },
   "file_extension": ".py",
   "mimetype": "text/x-python",
   "name": "python",
   "nbconvert_exporter": "python",
   "pygments_lexer": "ipython3",
   "version": "3.11.4"
  }
 },
 "nbformat": 4,
 "nbformat_minor": 5
}
